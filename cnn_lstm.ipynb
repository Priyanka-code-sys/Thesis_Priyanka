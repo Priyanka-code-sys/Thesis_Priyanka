{
  "cells": [
    {
      "cell_type": "markdown",
      "metadata": {
        "id": "view-in-github",
        "colab_type": "text"
      },
      "source": [
        "<a href=\"https://colab.research.google.com/github/Priyanka-code-sys/Thesis_Priyanka/blob/main/cnn_lstm.ipynb\" target=\"_parent\"><img src=\"https://colab.research.google.com/assets/colab-badge.svg\" alt=\"Open In Colab\"/></a>"
      ]
    },
    {
      "cell_type": "code",
      "execution_count": 1,
      "metadata": {
        "id": "32TzDJcApaXl"
      },
      "outputs": [],
      "source": [
        "import numpy as np\n",
        "import tensorflow as tf\n",
        "import pandas as pd\n",
        "import sklearn\n",
        "import matplotlib.pyplot as plt"
      ]
    },
    {
      "cell_type": "code",
      "execution_count": 2,
      "metadata": {
        "id": "dWTqpcadpaXo"
      },
      "outputs": [],
      "source": [
        "#set the memory growth for the gpu\n",
        "gpus = tf.config.experimental.list_physical_devices('GPU')\n",
        "for gpu in gpus:\n",
        "    tf.config.experimental.set_memory_growth(gpu,True)"
      ]
    },
    {
      "cell_type": "code",
      "execution_count": 3,
      "metadata": {
        "colab": {
          "base_uri": "https://localhost:8080/"
        },
        "id": "nHrKDJ0GpaXp",
        "outputId": "2f431051-267f-4d73-b13e-b91682fe7f6e"
      },
      "outputs": [
        {
          "output_type": "stream",
          "name": "stdout",
          "text": [
            "WARNING:tensorflow:Some requested devices in `tf.distribute.Strategy` are not visible to TensorFlow: /job:localhost/replica:0/task:0/device:GPU:1,/job:localhost/replica:0/task:0/device:GPU:0\n",
            "INFO:tensorflow:Using MirroredStrategy with devices ('/job:localhost/replica:0/task:0/device:GPU:0', '/job:localhost/replica:0/task:0/device:GPU:1')\n"
          ]
        }
      ],
      "source": [
        "#define the mirror stragy to use all gpus\n",
        "strategy = tf.distribute.MirroredStrategy([\"GPU:0\", \"GPU:1\"])"
      ]
    },
    {
      "cell_type": "code",
      "source": [
        "!wget https://s3.amazonaws.com/amazon-reviews-pds/tsv/amazon_reviews_multilingual_UK_v1_00.tsv.gz\n",
        "!wget https://s3.amazonaws.com/amazon-reviews-pds/tsv/amazon_reviews_multilingual_FR_v1_00.tsv.gz"
      ],
      "metadata": {
        "colab": {
          "base_uri": "https://localhost:8080/"
        },
        "id": "jJD14HYapzsL",
        "outputId": "3a22af74-cdfd-44ef-d9af-d10cc0b1f12a"
      },
      "execution_count": 4,
      "outputs": [
        {
          "output_type": "stream",
          "name": "stdout",
          "text": [
            "--2021-12-15 17:00:28--  https://s3.amazonaws.com/amazon-reviews-pds/tsv/amazon_reviews_multilingual_UK_v1_00.tsv.gz\n",
            "Resolving s3.amazonaws.com (s3.amazonaws.com)... 52.217.160.120\n",
            "Connecting to s3.amazonaws.com (s3.amazonaws.com)|52.217.160.120|:443... connected.\n",
            "HTTP request sent, awaiting response... 200 OK\n",
            "Length: 349370868 (333M) [application/x-gzip]\n",
            "Saving to: ‘amazon_reviews_multilingual_UK_v1_00.tsv.gz’\n",
            "\n",
            "amazon_reviews_mult 100%[===================>] 333.19M  33.8MB/s    in 10s     \n",
            "\n",
            "2021-12-15 17:00:39 (32.2 MB/s) - ‘amazon_reviews_multilingual_UK_v1_00.tsv.gz’ saved [349370868/349370868]\n",
            "\n",
            "--2021-12-15 17:00:39--  https://s3.amazonaws.com/amazon-reviews-pds/tsv/amazon_reviews_multilingual_FR_v1_00.tsv.gz\n",
            "Resolving s3.amazonaws.com (s3.amazonaws.com)... 52.217.140.128\n",
            "Connecting to s3.amazonaws.com (s3.amazonaws.com)|52.217.140.128|:443... connected.\n",
            "HTTP request sent, awaiting response... 200 OK\n",
            "Length: 70583516 (67M) [application/x-gzip]\n",
            "Saving to: ‘amazon_reviews_multilingual_FR_v1_00.tsv.gz’\n",
            "\n",
            "amazon_reviews_mult 100%[===================>]  67.31M  24.9MB/s    in 2.7s    \n",
            "\n",
            "2021-12-15 17:00:42 (24.9 MB/s) - ‘amazon_reviews_multilingual_FR_v1_00.tsv.gz’ saved [70583516/70583516]\n",
            "\n"
          ]
        }
      ]
    },
    {
      "cell_type": "code",
      "execution_count": 5,
      "metadata": {
        "id": "bt-nO3OqpaXr"
      },
      "outputs": [],
      "source": [
        "#load the pandas dataframe\n",
        "#load the pandas dataframe\n",
        "df_en = pd.read_csv('amazon_reviews_multilingual_UK_v1_00.tsv.gz',delimiter = '\\t', quoting = 3)\n",
        "df_fr = pd.read_csv('amazon_reviews_multilingual_FR_v1_00.tsv.gz',delimiter = '\\t', quoting = 3)"
      ]
    },
    {
      "cell_type": "code",
      "execution_count": 6,
      "metadata": {
        "id": "Y5ePuqNIpaXs"
      },
      "outputs": [],
      "source": [
        "#remove the un-necessary rows and columns\n",
        "df_en = df_en.loc[:,['review_headline','review_body','star_rating']]\n",
        "df_fr = df_fr.loc[:,['review_headline','review_body','star_rating']]\n"
      ]
    },
    {
      "cell_type": "code",
      "execution_count": 7,
      "metadata": {
        "colab": {
          "base_uri": "https://localhost:8080/"
        },
        "id": "kuZbeKh3paXs",
        "outputId": "08da8c7c-2522-4d70-ac75-29cc7e36600b"
      },
      "outputs": [
        {
          "output_type": "stream",
          "name": "stdout",
          "text": [
            "1707494\n",
            "254080\n"
          ]
        }
      ],
      "source": [
        "#find the length of both the datasets\n",
        "print(len(df_en.index))\n",
        "print(len(df_fr.index))"
      ]
    },
    {
      "cell_type": "code",
      "execution_count": 8,
      "metadata": {
        "id": "weHQv2clpaXt"
      },
      "outputs": [],
      "source": [
        "#take 250k review from each dataset (to balance english and french dataset)\n",
        "df_en = sklearn.utils.shuffle(df_en)\n",
        "df_en = df_en[:250000]\n",
        "df_fr = sklearn.utils.shuffle(df_fr)\n",
        "df_fr = df_fr[:250000]"
      ]
    },
    {
      "cell_type": "code",
      "execution_count": 9,
      "metadata": {
        "id": "olyBZN_JpaXu"
      },
      "outputs": [],
      "source": [
        "#combine the dataset into single dataset\n",
        "df = pd.concat([df_en,df_fr])"
      ]
    },
    {
      "cell_type": "code",
      "execution_count": 10,
      "metadata": {
        "colab": {
          "base_uri": "https://localhost:8080/",
          "height": 206
        },
        "id": "6H0uIjqypaXu",
        "outputId": "4ba34b7c-284b-45b6-81c2-546d3d1a0473"
      },
      "outputs": [
        {
          "output_type": "execute_result",
          "data": {
            "text/html": [
              "<div>\n",
              "<style scoped>\n",
              "    .dataframe tbody tr th:only-of-type {\n",
              "        vertical-align: middle;\n",
              "    }\n",
              "\n",
              "    .dataframe tbody tr th {\n",
              "        vertical-align: top;\n",
              "    }\n",
              "\n",
              "    .dataframe thead th {\n",
              "        text-align: right;\n",
              "    }\n",
              "</style>\n",
              "<table border=\"1\" class=\"dataframe\">\n",
              "  <thead>\n",
              "    <tr style=\"text-align: right;\">\n",
              "      <th></th>\n",
              "      <th>review_headline</th>\n",
              "      <th>review_body</th>\n",
              "      <th>star_rating</th>\n",
              "    </tr>\n",
              "  </thead>\n",
              "  <tbody>\n",
              "    <tr>\n",
              "      <th>1033494</th>\n",
              "      <td>So  Good  At  Being  Bad</td>\n",
              "      <td>Waiting for the postman to arrive this morning...</td>\n",
              "      <td>5</td>\n",
              "    </tr>\n",
              "    <tr>\n",
              "      <th>328998</th>\n",
              "      <td>Different but fun!</td>\n",
              "      <td>Not a book I knew anything about but became ho...</td>\n",
              "      <td>4</td>\n",
              "    </tr>\n",
              "    <tr>\n",
              "      <th>1268797</th>\n",
              "      <td>Very usefull for streaming full HD video to my...</td>\n",
              "      <td>No problems for watching movies over 7GB and f...</td>\n",
              "      <td>1</td>\n",
              "    </tr>\n",
              "    <tr>\n",
              "      <th>934205</th>\n",
              "      <td>A magnificent collection of songs</td>\n",
              "      <td>A magnificent album from Elbow. It is full of ...</td>\n",
              "      <td>5</td>\n",
              "    </tr>\n",
              "    <tr>\n",
              "      <th>1468667</th>\n",
              "      <td>Band Of Brothers - A personal view</td>\n",
              "      <td>Lets cut straight to the chase here. HBOs Band...</td>\n",
              "      <td>5</td>\n",
              "    </tr>\n",
              "  </tbody>\n",
              "</table>\n",
              "</div>"
            ],
            "text/plain": [
              "                                           review_headline  ... star_rating\n",
              "1033494                           So  Good  At  Being  Bad  ...           5\n",
              "328998                                  Different but fun!  ...           4\n",
              "1268797  Very usefull for streaming full HD video to my...  ...           1\n",
              "934205                   A magnificent collection of songs  ...           5\n",
              "1468667                 Band Of Brothers - A personal view  ...           5\n",
              "\n",
              "[5 rows x 3 columns]"
            ]
          },
          "metadata": {},
          "execution_count": 10
        }
      ],
      "source": [
        "df.head(5)"
      ]
    },
    {
      "cell_type": "code",
      "execution_count": 11,
      "metadata": {
        "colab": {
          "base_uri": "https://localhost:8080/",
          "height": 206
        },
        "id": "S0YvZ9TfpaXv",
        "outputId": "06d67bd2-d022-48d1-da5d-b7385abd88fc"
      },
      "outputs": [
        {
          "output_type": "execute_result",
          "data": {
            "text/html": [
              "<div>\n",
              "<style scoped>\n",
              "    .dataframe tbody tr th:only-of-type {\n",
              "        vertical-align: middle;\n",
              "    }\n",
              "\n",
              "    .dataframe tbody tr th {\n",
              "        vertical-align: top;\n",
              "    }\n",
              "\n",
              "    .dataframe thead th {\n",
              "        text-align: right;\n",
              "    }\n",
              "</style>\n",
              "<table border=\"1\" class=\"dataframe\">\n",
              "  <thead>\n",
              "    <tr style=\"text-align: right;\">\n",
              "      <th></th>\n",
              "      <th>review_headline</th>\n",
              "      <th>review_body</th>\n",
              "      <th>star_rating</th>\n",
              "    </tr>\n",
              "  </thead>\n",
              "  <tbody>\n",
              "    <tr>\n",
              "      <th>207653</th>\n",
              "      <td>Star Trek Les films</td>\n",
              "      <td>Coffret réunissant les 10 films de star trek q...</td>\n",
              "      <td>4</td>\n",
              "    </tr>\n",
              "    <tr>\n",
              "      <th>92559</th>\n",
              "      <td>Beethoven, ENFIN !</td>\n",
              "      <td>Gardiner a r&amp;eacute;ussi le prodige de nous fa...</td>\n",
              "      <td>5</td>\n",
              "    </tr>\n",
              "    <tr>\n",
              "      <th>105247</th>\n",
              "      <td>Dernier CD sort avant la tournée de 2013</td>\n",
              "      <td>Bien aimé ce CD;je trouve dommage par contre d...</td>\n",
              "      <td>4</td>\n",
              "    </tr>\n",
              "    <tr>\n",
              "      <th>97542</th>\n",
              "      <td>ByeBye</td>\n",
              "      <td>Comme dit plus haut, les Stones sont très loin...</td>\n",
              "      <td>3</td>\n",
              "    </tr>\n",
              "    <tr>\n",
              "      <th>135725</th>\n",
              "      <td>Très bien</td>\n",
              "      <td>Bonjour,  Personnellement j'ai vraiment bien a...</td>\n",
              "      <td>5</td>\n",
              "    </tr>\n",
              "  </tbody>\n",
              "</table>\n",
              "</div>"
            ],
            "text/plain": [
              "                                 review_headline  ... star_rating\n",
              "207653                       Star Trek Les films  ...           4\n",
              "92559                         Beethoven, ENFIN !  ...           5\n",
              "105247  Dernier CD sort avant la tournée de 2013  ...           4\n",
              "97542                                     ByeBye  ...           3\n",
              "135725                                 Très bien  ...           5\n",
              "\n",
              "[5 rows x 3 columns]"
            ]
          },
          "metadata": {},
          "execution_count": 11
        }
      ],
      "source": [
        "df.tail(5)"
      ]
    },
    {
      "cell_type": "code",
      "execution_count": 12,
      "metadata": {
        "id": "bnpT9M_5paXv"
      },
      "outputs": [],
      "source": [
        "#shuffle the dataset with sklearn\n",
        "df = sklearn.utils.shuffle(df)"
      ]
    },
    {
      "cell_type": "code",
      "execution_count": 13,
      "metadata": {
        "colab": {
          "base_uri": "https://localhost:8080/",
          "height": 206
        },
        "id": "Up4w4v3KpaXv",
        "outputId": "0e4ada7f-4a25-4479-e7fa-4dae23942e10"
      },
      "outputs": [
        {
          "output_type": "execute_result",
          "data": {
            "text/html": [
              "<div>\n",
              "<style scoped>\n",
              "    .dataframe tbody tr th:only-of-type {\n",
              "        vertical-align: middle;\n",
              "    }\n",
              "\n",
              "    .dataframe tbody tr th {\n",
              "        vertical-align: top;\n",
              "    }\n",
              "\n",
              "    .dataframe thead th {\n",
              "        text-align: right;\n",
              "    }\n",
              "</style>\n",
              "<table border=\"1\" class=\"dataframe\">\n",
              "  <thead>\n",
              "    <tr style=\"text-align: right;\">\n",
              "      <th></th>\n",
              "      <th>review_headline</th>\n",
              "      <th>review_body</th>\n",
              "      <th>star_rating</th>\n",
              "    </tr>\n",
              "  </thead>\n",
              "  <tbody>\n",
              "    <tr>\n",
              "      <th>215329</th>\n",
              "      <td>Une perle à écouter</td>\n",
              "      <td>Sans avoir besoin d'avoir vu le film, ce cd es...</td>\n",
              "      <td>5</td>\n",
              "    </tr>\n",
              "    <tr>\n",
              "      <th>19447</th>\n",
              "      <td>trés bien</td>\n",
              "      <td>mon frère a adoré cool. Apparemment tout les é...</td>\n",
              "      <td>5</td>\n",
              "    </tr>\n",
              "    <tr>\n",
              "      <th>1004412</th>\n",
              "      <td>this film blew me away -and I not even fan of ...</td>\n",
              "      <td>I saw this film and it gave me one of my best ...</td>\n",
              "      <td>5</td>\n",
              "    </tr>\n",
              "    <tr>\n",
              "      <th>187281</th>\n",
              "      <td>Youpi!!!!!!!!</td>\n",
              "      <td>Vivement octobre pour m'offrir ce coffret qui ...</td>\n",
              "      <td>5</td>\n",
              "    </tr>\n",
              "    <tr>\n",
              "      <th>208816</th>\n",
              "      <td>complet</td>\n",
              "      <td>De très bonne qualité et suffisant pour jouer ...</td>\n",
              "      <td>5</td>\n",
              "    </tr>\n",
              "  </tbody>\n",
              "</table>\n",
              "</div>"
            ],
            "text/plain": [
              "                                           review_headline  ... star_rating\n",
              "215329                                 Une perle à écouter  ...           5\n",
              "19447                                            trés bien  ...           5\n",
              "1004412  this film blew me away -and I not even fan of ...  ...           5\n",
              "187281                                       Youpi!!!!!!!!  ...           5\n",
              "208816                                             complet  ...           5\n",
              "\n",
              "[5 rows x 3 columns]"
            ]
          },
          "metadata": {},
          "execution_count": 13
        }
      ],
      "source": [
        "df.head(5)"
      ]
    },
    {
      "cell_type": "code",
      "execution_count": 14,
      "metadata": {
        "colab": {
          "base_uri": "https://localhost:8080/",
          "height": 206
        },
        "id": "nwPrbaRcpaXw",
        "outputId": "c166fa07-51ac-47cf-e678-dc5562a49ef7"
      },
      "outputs": [
        {
          "output_type": "execute_result",
          "data": {
            "text/html": [
              "<div>\n",
              "<style scoped>\n",
              "    .dataframe tbody tr th:only-of-type {\n",
              "        vertical-align: middle;\n",
              "    }\n",
              "\n",
              "    .dataframe tbody tr th {\n",
              "        vertical-align: top;\n",
              "    }\n",
              "\n",
              "    .dataframe thead th {\n",
              "        text-align: right;\n",
              "    }\n",
              "</style>\n",
              "<table border=\"1\" class=\"dataframe\">\n",
              "  <thead>\n",
              "    <tr style=\"text-align: right;\">\n",
              "      <th></th>\n",
              "      <th>review_headline</th>\n",
              "      <th>review_body</th>\n",
              "      <th>star_rating</th>\n",
              "    </tr>\n",
              "  </thead>\n",
              "  <tbody>\n",
              "    <tr>\n",
              "      <th>119721</th>\n",
              "      <td>De la musique pour ascenseur équipé d'un bon s...</td>\n",
              "      <td>On aurait pu penser que cet album serait mauva...</td>\n",
              "      <td>2</td>\n",
              "    </tr>\n",
              "    <tr>\n",
              "      <th>1253560</th>\n",
              "      <td>Three Stars</td>\n",
              "      <td>Good series</td>\n",
              "      <td>3</td>\n",
              "    </tr>\n",
              "    <tr>\n",
              "      <th>985563</th>\n",
              "      <td>how did it know?</td>\n",
              "      <td>Unbelievable it knew what I was thinking about...</td>\n",
              "      <td>5</td>\n",
              "    </tr>\n",
              "    <tr>\n",
              "      <th>934724</th>\n",
              "      <td>Another good book</td>\n",
              "      <td>Excellent condition for a secondhand book.</td>\n",
              "      <td>5</td>\n",
              "    </tr>\n",
              "    <tr>\n",
              "      <th>721604</th>\n",
              "      <td>Classic metal from the 80's</td>\n",
              "      <td>One thing with this album I find is I don't kn...</td>\n",
              "      <td>4</td>\n",
              "    </tr>\n",
              "  </tbody>\n",
              "</table>\n",
              "</div>"
            ],
            "text/plain": [
              "                                           review_headline  ... star_rating\n",
              "119721   De la musique pour ascenseur équipé d'un bon s...  ...           2\n",
              "1253560                                        Three Stars  ...           3\n",
              "985563                                    how did it know?  ...           5\n",
              "934724                                   Another good book  ...           5\n",
              "721604                         Classic metal from the 80's  ...           4\n",
              "\n",
              "[5 rows x 3 columns]"
            ]
          },
          "metadata": {},
          "execution_count": 14
        }
      ],
      "source": [
        "df.tail(5)"
      ]
    },
    {
      "cell_type": "code",
      "execution_count": 15,
      "metadata": {
        "id": "F1EiyjQnpaXw"
      },
      "outputs": [],
      "source": [
        "#combine the review heading and review body\n",
        "df['review'] = df['review_headline'] + ' ' + df['review_body']\n",
        "df = df.loc[:,['review','star_rating']]"
      ]
    },
    {
      "cell_type": "code",
      "execution_count": 16,
      "metadata": {
        "colab": {
          "base_uri": "https://localhost:8080/",
          "height": 206
        },
        "id": "51yoTP8bpaXx",
        "outputId": "464719d3-5585-4c78-a5e4-dd3d1bd28fcb"
      },
      "outputs": [
        {
          "output_type": "execute_result",
          "data": {
            "text/html": [
              "<div>\n",
              "<style scoped>\n",
              "    .dataframe tbody tr th:only-of-type {\n",
              "        vertical-align: middle;\n",
              "    }\n",
              "\n",
              "    .dataframe tbody tr th {\n",
              "        vertical-align: top;\n",
              "    }\n",
              "\n",
              "    .dataframe thead th {\n",
              "        text-align: right;\n",
              "    }\n",
              "</style>\n",
              "<table border=\"1\" class=\"dataframe\">\n",
              "  <thead>\n",
              "    <tr style=\"text-align: right;\">\n",
              "      <th></th>\n",
              "      <th>review</th>\n",
              "      <th>star_rating</th>\n",
              "    </tr>\n",
              "  </thead>\n",
              "  <tbody>\n",
              "    <tr>\n",
              "      <th>215329</th>\n",
              "      <td>Une perle à écouter Sans avoir besoin d'avoir ...</td>\n",
              "      <td>5</td>\n",
              "    </tr>\n",
              "    <tr>\n",
              "      <th>19447</th>\n",
              "      <td>trés bien mon frère a adoré cool. Apparemment ...</td>\n",
              "      <td>5</td>\n",
              "    </tr>\n",
              "    <tr>\n",
              "      <th>1004412</th>\n",
              "      <td>this film blew me away -and I not even fan of ...</td>\n",
              "      <td>5</td>\n",
              "    </tr>\n",
              "    <tr>\n",
              "      <th>187281</th>\n",
              "      <td>Youpi!!!!!!!! Vivement octobre pour m'offrir c...</td>\n",
              "      <td>5</td>\n",
              "    </tr>\n",
              "    <tr>\n",
              "      <th>208816</th>\n",
              "      <td>complet De très bonne qualité et suffisant pou...</td>\n",
              "      <td>5</td>\n",
              "    </tr>\n",
              "  </tbody>\n",
              "</table>\n",
              "</div>"
            ],
            "text/plain": [
              "                                                    review  star_rating\n",
              "215329   Une perle à écouter Sans avoir besoin d'avoir ...            5\n",
              "19447    trés bien mon frère a adoré cool. Apparemment ...            5\n",
              "1004412  this film blew me away -and I not even fan of ...            5\n",
              "187281   Youpi!!!!!!!! Vivement octobre pour m'offrir c...            5\n",
              "208816   complet De très bonne qualité et suffisant pou...            5"
            ]
          },
          "metadata": {},
          "execution_count": 16
        }
      ],
      "source": [
        "df.head(5)"
      ]
    },
    {
      "cell_type": "code",
      "execution_count": 17,
      "metadata": {
        "id": "ozysoSZ8paXx"
      },
      "outputs": [],
      "source": [
        "#clean the text using (convert into lower case + remove special chars)\n",
        "df['review'] = df['review'].str.lower()\n"
      ]
    },
    {
      "cell_type": "code",
      "execution_count": 18,
      "metadata": {
        "colab": {
          "base_uri": "https://localhost:8080/",
          "height": 206
        },
        "id": "G_ZmOOs1paXx",
        "outputId": "334a367c-62cc-45b9-8912-9dcfd7027546"
      },
      "outputs": [
        {
          "output_type": "execute_result",
          "data": {
            "text/html": [
              "<div>\n",
              "<style scoped>\n",
              "    .dataframe tbody tr th:only-of-type {\n",
              "        vertical-align: middle;\n",
              "    }\n",
              "\n",
              "    .dataframe tbody tr th {\n",
              "        vertical-align: top;\n",
              "    }\n",
              "\n",
              "    .dataframe thead th {\n",
              "        text-align: right;\n",
              "    }\n",
              "</style>\n",
              "<table border=\"1\" class=\"dataframe\">\n",
              "  <thead>\n",
              "    <tr style=\"text-align: right;\">\n",
              "      <th></th>\n",
              "      <th>review</th>\n",
              "      <th>star_rating</th>\n",
              "    </tr>\n",
              "  </thead>\n",
              "  <tbody>\n",
              "    <tr>\n",
              "      <th>215329</th>\n",
              "      <td>une perle à écouter sans avoir besoin d'avoir ...</td>\n",
              "      <td>5</td>\n",
              "    </tr>\n",
              "    <tr>\n",
              "      <th>19447</th>\n",
              "      <td>trés bien mon frère a adoré cool. apparemment ...</td>\n",
              "      <td>5</td>\n",
              "    </tr>\n",
              "    <tr>\n",
              "      <th>1004412</th>\n",
              "      <td>this film blew me away -and i not even fan of ...</td>\n",
              "      <td>5</td>\n",
              "    </tr>\n",
              "    <tr>\n",
              "      <th>187281</th>\n",
              "      <td>youpi!!!!!!!! vivement octobre pour m'offrir c...</td>\n",
              "      <td>5</td>\n",
              "    </tr>\n",
              "    <tr>\n",
              "      <th>208816</th>\n",
              "      <td>complet de très bonne qualité et suffisant pou...</td>\n",
              "      <td>5</td>\n",
              "    </tr>\n",
              "  </tbody>\n",
              "</table>\n",
              "</div>"
            ],
            "text/plain": [
              "                                                    review  star_rating\n",
              "215329   une perle à écouter sans avoir besoin d'avoir ...            5\n",
              "19447    trés bien mon frère a adoré cool. apparemment ...            5\n",
              "1004412  this film blew me away -and i not even fan of ...            5\n",
              "187281   youpi!!!!!!!! vivement octobre pour m'offrir c...            5\n",
              "208816   complet de très bonne qualité et suffisant pou...            5"
            ]
          },
          "metadata": {},
          "execution_count": 18
        }
      ],
      "source": [
        "df.head(5)"
      ]
    },
    {
      "cell_type": "code",
      "execution_count": 19,
      "metadata": {
        "id": "UyPAxOBtpaXy"
      },
      "outputs": [],
      "source": [
        "df['review'] =df['review'].str.replace(r'[^a-zA-Z0-9\\w\\sàâäôéèëêïîçùûüÿæœÀÂÄÔÉÈËÊÏÎŸÇÙÛÜÆŒ]+',' ',regex=True)"
      ]
    },
    {
      "cell_type": "code",
      "execution_count": 20,
      "metadata": {
        "colab": {
          "base_uri": "https://localhost:8080/",
          "height": 206
        },
        "id": "ziSdi8n3paX7",
        "outputId": "e29a76e8-70f3-40c7-984d-6e1e5a5f52b5"
      },
      "outputs": [
        {
          "output_type": "execute_result",
          "data": {
            "text/html": [
              "<div>\n",
              "<style scoped>\n",
              "    .dataframe tbody tr th:only-of-type {\n",
              "        vertical-align: middle;\n",
              "    }\n",
              "\n",
              "    .dataframe tbody tr th {\n",
              "        vertical-align: top;\n",
              "    }\n",
              "\n",
              "    .dataframe thead th {\n",
              "        text-align: right;\n",
              "    }\n",
              "</style>\n",
              "<table border=\"1\" class=\"dataframe\">\n",
              "  <thead>\n",
              "    <tr style=\"text-align: right;\">\n",
              "      <th></th>\n",
              "      <th>review</th>\n",
              "      <th>star_rating</th>\n",
              "    </tr>\n",
              "  </thead>\n",
              "  <tbody>\n",
              "    <tr>\n",
              "      <th>215329</th>\n",
              "      <td>une perle à écouter sans avoir besoin d avoir ...</td>\n",
              "      <td>5</td>\n",
              "    </tr>\n",
              "    <tr>\n",
              "      <th>19447</th>\n",
              "      <td>trés bien mon frère a adoré cool  apparemment ...</td>\n",
              "      <td>5</td>\n",
              "    </tr>\n",
              "    <tr>\n",
              "      <th>1004412</th>\n",
              "      <td>this film blew me away  and i not even fan of ...</td>\n",
              "      <td>5</td>\n",
              "    </tr>\n",
              "    <tr>\n",
              "      <th>187281</th>\n",
              "      <td>youpi  vivement octobre pour m offrir ce coffr...</td>\n",
              "      <td>5</td>\n",
              "    </tr>\n",
              "    <tr>\n",
              "      <th>208816</th>\n",
              "      <td>complet de très bonne qualité et suffisant pou...</td>\n",
              "      <td>5</td>\n",
              "    </tr>\n",
              "  </tbody>\n",
              "</table>\n",
              "</div>"
            ],
            "text/plain": [
              "                                                    review  star_rating\n",
              "215329   une perle à écouter sans avoir besoin d avoir ...            5\n",
              "19447    trés bien mon frère a adoré cool  apparemment ...            5\n",
              "1004412  this film blew me away  and i not even fan of ...            5\n",
              "187281   youpi  vivement octobre pour m offrir ce coffr...            5\n",
              "208816   complet de très bonne qualité et suffisant pou...            5"
            ]
          },
          "metadata": {},
          "execution_count": 20
        }
      ],
      "source": [
        "df.head(5)"
      ]
    },
    {
      "cell_type": "code",
      "execution_count": 21,
      "metadata": {
        "id": "RiDfbxsFpaX8"
      },
      "outputs": [],
      "source": [
        "#balance the number dataset for same number of review for each rating\n",
        "df_five = df[df['star_rating']==5]\n",
        "df_four = df[df['star_rating']==4]\n",
        "df_three = df[df['star_rating']==3]\n",
        "df_two = df[df['star_rating']==2]\n",
        "df_one = df[df['star_rating']==1]\n"
      ]
    },
    {
      "cell_type": "code",
      "execution_count": 22,
      "metadata": {
        "colab": {
          "base_uri": "https://localhost:8080/"
        },
        "id": "NDvax2utpaX8",
        "outputId": "6a4f4a36-128e-4166-eaef-b14db341f861"
      },
      "outputs": [
        {
          "output_type": "stream",
          "name": "stdout",
          "text": [
            "318937\n",
            "93642\n",
            "41239\n",
            "20245\n",
            "25937\n"
          ]
        }
      ],
      "source": [
        "#get the length of each reviews\n",
        "print(len(df_five.index))\n",
        "print(len(df_four.index))\n",
        "print(len(df_three.index))\n",
        "print(len(df_two.index))\n",
        "print(len(df_one.index))"
      ]
    },
    {
      "cell_type": "code",
      "execution_count": 23,
      "metadata": {
        "colab": {
          "base_uri": "https://localhost:8080/",
          "height": 295
        },
        "id": "SR6fuuJ0paX9",
        "outputId": "01d46ce9-9daa-458a-ca2e-60d33e737868"
      },
      "outputs": [
        {
          "output_type": "display_data",
          "data": {
            "image/png": "[encoded data removed]",
            "text/plain": [
              "<Figure size 432x288 with 1 Axes>"
            ]
          },
          "metadata": {
            "needs_background": "light"
          }
        }
      ],
      "source": [
        "#un balanced dataset\n",
        "y = [len(df_one.index),len(df_two.index),len(df_three.index),len(df_four.index),len(df_five.index)]\n",
        "x = [1,2,3,4,5]\n",
        "plt.bar(x,y,color='red',label='data-balance')\n",
        "plt.title('class frequency')\n",
        "plt.xlabel('classes')\n",
        "plt.ylabel('frequencies')\n",
        "plt.show()"
      ]
    },
    {
      "cell_type": "code",
      "execution_count": 24,
      "metadata": {
        "id": "2IlQCSHmpaX-"
      },
      "outputs": [],
      "source": [
        "#taking 20k from each review\n",
        "sample = 20000\n",
        "df = pd.concat([df_five[:sample],df_four[:sample],df_three[:sample],df_two[:sample],df_one[:sample]])"
      ]
    },
    {
      "cell_type": "code",
      "execution_count": 25,
      "metadata": {
        "colab": {
          "base_uri": "https://localhost:8080/",
          "height": 295
        },
        "id": "JgoFoDURpaX-",
        "outputId": "d5949c3e-1fa3-496f-8195-e696577e058c"
      },
      "outputs": [
        {
          "output_type": "display_data",
          "data": {
            "image/png": "[encoded data removed]",
            "text/plain": [
              "<Figure size 432x288 with 1 Axes>"
            ]
          },
          "metadata": {
            "needs_background": "light"
          }
        }
      ],
      "source": [
        "#balance the number dataset for same number of review for each rating\n",
        "df_five = df[df['star_rating']==5]\n",
        "df_four = df[df['star_rating']==4]\n",
        "df_three = df[df['star_rating']==3]\n",
        "df_two = df[df['star_rating']==2]\n",
        "df_one = df[df['star_rating']==1]\n",
        "#un balanced dataset\n",
        "y = [len(df_one.index),len(df_two.index),len(df_three.index),len(df_four.index),len(df_five.index)]\n",
        "x = [1,2,3,4,5]\n",
        "plt.bar(x,y,color='red',label='data-balance')\n",
        "plt.title('class frequency')\n",
        "plt.xlabel('classes')\n",
        "plt.ylabel('frequencies')\n",
        "plt.show()"
      ]
    },
    {
      "cell_type": "code",
      "execution_count": 26,
      "metadata": {
        "colab": {
          "base_uri": "https://localhost:8080/"
        },
        "id": "u5OlFtHmpaX-",
        "outputId": "1d306df6-057c-4789-9769-41cd5a899bf1"
      },
      "outputs": [
        {
          "output_type": "stream",
          "name": "stdout",
          "text": [
            "100000\n"
          ]
        }
      ],
      "source": [
        "#total length of the dataset\n",
        "print(len(df.index))"
      ]
    },
    {
      "cell_type": "code",
      "execution_count": 27,
      "metadata": {
        "id": "bHBVQyDCpaX_"
      },
      "outputs": [],
      "source": [
        "#scale the ratings between 0-1\n",
        "df['star_rating'] = df['star_rating']/5"
      ]
    },
    {
      "cell_type": "code",
      "execution_count": 28,
      "metadata": {
        "colab": {
          "base_uri": "https://localhost:8080/",
          "height": 206
        },
        "id": "9xW4C6kbpaX_",
        "outputId": "03b0962e-7672-4946-9264-1ab175f7d1b3"
      },
      "outputs": [
        {
          "output_type": "execute_result",
          "data": {
            "text/html": [
              "<div>\n",
              "<style scoped>\n",
              "    .dataframe tbody tr th:only-of-type {\n",
              "        vertical-align: middle;\n",
              "    }\n",
              "\n",
              "    .dataframe tbody tr th {\n",
              "        vertical-align: top;\n",
              "    }\n",
              "\n",
              "    .dataframe thead th {\n",
              "        text-align: right;\n",
              "    }\n",
              "</style>\n",
              "<table border=\"1\" class=\"dataframe\">\n",
              "  <thead>\n",
              "    <tr style=\"text-align: right;\">\n",
              "      <th></th>\n",
              "      <th>review</th>\n",
              "      <th>star_rating</th>\n",
              "    </tr>\n",
              "  </thead>\n",
              "  <tbody>\n",
              "    <tr>\n",
              "      <th>215329</th>\n",
              "      <td>une perle à écouter sans avoir besoin d avoir ...</td>\n",
              "      <td>1.0</td>\n",
              "    </tr>\n",
              "    <tr>\n",
              "      <th>19447</th>\n",
              "      <td>trés bien mon frère a adoré cool  apparemment ...</td>\n",
              "      <td>1.0</td>\n",
              "    </tr>\n",
              "    <tr>\n",
              "      <th>1004412</th>\n",
              "      <td>this film blew me away  and i not even fan of ...</td>\n",
              "      <td>1.0</td>\n",
              "    </tr>\n",
              "    <tr>\n",
              "      <th>187281</th>\n",
              "      <td>youpi  vivement octobre pour m offrir ce coffr...</td>\n",
              "      <td>1.0</td>\n",
              "    </tr>\n",
              "    <tr>\n",
              "      <th>208816</th>\n",
              "      <td>complet de très bonne qualité et suffisant pou...</td>\n",
              "      <td>1.0</td>\n",
              "    </tr>\n",
              "  </tbody>\n",
              "</table>\n",
              "</div>"
            ],
            "text/plain": [
              "                                                    review  star_rating\n",
              "215329   une perle à écouter sans avoir besoin d avoir ...          1.0\n",
              "19447    trés bien mon frère a adoré cool  apparemment ...          1.0\n",
              "1004412  this film blew me away  and i not even fan of ...          1.0\n",
              "187281   youpi  vivement octobre pour m offrir ce coffr...          1.0\n",
              "208816   complet de très bonne qualité et suffisant pou...          1.0"
            ]
          },
          "metadata": {},
          "execution_count": 28
        }
      ],
      "source": [
        "df.head(5)"
      ]
    },
    {
      "cell_type": "code",
      "execution_count": 29,
      "metadata": {
        "colab": {
          "base_uri": "https://localhost:8080/",
          "height": 363
        },
        "id": "eRvVlxj2paX_",
        "outputId": "070e3c5a-ec48-4a7f-e843-63652da315e4"
      },
      "outputs": [
        {
          "output_type": "execute_result",
          "data": {
            "text/html": [
              "<div>\n",
              "<style scoped>\n",
              "    .dataframe tbody tr th:only-of-type {\n",
              "        vertical-align: middle;\n",
              "    }\n",
              "\n",
              "    .dataframe tbody tr th {\n",
              "        vertical-align: top;\n",
              "    }\n",
              "\n",
              "    .dataframe thead th {\n",
              "        text-align: right;\n",
              "    }\n",
              "</style>\n",
              "<table border=\"1\" class=\"dataframe\">\n",
              "  <thead>\n",
              "    <tr style=\"text-align: right;\">\n",
              "      <th></th>\n",
              "      <th>review</th>\n",
              "      <th>star_rating</th>\n",
              "    </tr>\n",
              "  </thead>\n",
              "  <tbody>\n",
              "    <tr>\n",
              "      <th>1059547</th>\n",
              "      <td>disappointing i had this as a sample  then acc...</td>\n",
              "      <td>0.2</td>\n",
              "    </tr>\n",
              "    <tr>\n",
              "      <th>1220190</th>\n",
              "      <td>origin of the dark knight this film could have...</td>\n",
              "      <td>0.4</td>\n",
              "    </tr>\n",
              "    <tr>\n",
              "      <th>866978</th>\n",
              "      <td>absolutely fantastic   best book i ve read in ...</td>\n",
              "      <td>1.0</td>\n",
              "    </tr>\n",
              "    <tr>\n",
              "      <th>119482</th>\n",
              "      <td>batterie hs au bout de 5 mois je suis très déç...</td>\n",
              "      <td>0.2</td>\n",
              "    </tr>\n",
              "    <tr>\n",
              "      <th>120960</th>\n",
              "      <td>rihanna christina alicia et les autres  rihann...</td>\n",
              "      <td>0.2</td>\n",
              "    </tr>\n",
              "    <tr>\n",
              "      <th>10010</th>\n",
              "      <td>du pur bonheur dommage du format 4 3  pour le ...</td>\n",
              "      <td>0.8</td>\n",
              "    </tr>\n",
              "    <tr>\n",
              "      <th>119452</th>\n",
              "      <td>grosse deception ne pas acheter cet album  pou...</td>\n",
              "      <td>0.4</td>\n",
              "    </tr>\n",
              "    <tr>\n",
              "      <th>100091</th>\n",
              "      <td>bon film d action un peu dans la lignée de cer...</td>\n",
              "      <td>0.8</td>\n",
              "    </tr>\n",
              "    <tr>\n",
              "      <th>752237</th>\n",
              "      <td>one star not very good</td>\n",
              "      <td>0.2</td>\n",
              "    </tr>\n",
              "    <tr>\n",
              "      <th>204613</th>\n",
              "      <td>on passe devant un film sans grand interet un ...</td>\n",
              "      <td>0.4</td>\n",
              "    </tr>\n",
              "  </tbody>\n",
              "</table>\n",
              "</div>"
            ],
            "text/plain": [
              "                                                    review  star_rating\n",
              "1059547  disappointing i had this as a sample  then acc...          0.2\n",
              "1220190  origin of the dark knight this film could have...          0.4\n",
              "866978   absolutely fantastic   best book i ve read in ...          1.0\n",
              "119482   batterie hs au bout de 5 mois je suis très déç...          0.2\n",
              "120960   rihanna christina alicia et les autres  rihann...          0.2\n",
              "10010    du pur bonheur dommage du format 4 3  pour le ...          0.8\n",
              "119452   grosse deception ne pas acheter cet album  pou...          0.4\n",
              "100091   bon film d action un peu dans la lignée de cer...          0.8\n",
              "752237                              one star not very good          0.2\n",
              "204613   on passe devant un film sans grand interet un ...          0.4"
            ]
          },
          "metadata": {},
          "execution_count": 29
        }
      ],
      "source": [
        "#shuffle the dataset again\n",
        "df = sklearn.utils.shuffle(df)\n",
        "df.head(10)"
      ]
    },
    {
      "cell_type": "code",
      "execution_count": 30,
      "metadata": {
        "id": "Hh9ueA3XpaYA"
      },
      "outputs": [],
      "source": [
        "#save the transformed dataset\n",
        "import pickle\n",
        "\n",
        "df.to_pickle(\"./dataset.pkl\")"
      ]
    },
    {
      "cell_type": "code",
      "execution_count": 31,
      "metadata": {
        "id": "5va59FwdpaYA"
      },
      "outputs": [],
      "source": [
        "#sepearate the dataframe into text reviews and ratings.\n",
        "VOCAB_SIZE = 50000\n",
        "with strategy.scope():\n",
        "    encoder = tf.keras.layers.TextVectorization(max_tokens=VOCAB_SIZE)"
      ]
    },
    {
      "cell_type": "code",
      "execution_count": 32,
      "metadata": {
        "id": "IEFVHsAKpaYA"
      },
      "outputs": [],
      "source": [
        "#adap the vocabulary on the data-set\n",
        "X = df['review'].map(lambda x:str(x))"
      ]
    },
    {
      "cell_type": "code",
      "execution_count": 33,
      "metadata": {
        "colab": {
          "base_uri": "https://localhost:8080/"
        },
        "id": "pLFETVxBpaYA",
        "outputId": "17ce7edb-9cee-437d-a9df-3b5a248aa3f6"
      },
      "outputs": [
        {
          "output_type": "stream",
          "name": "stdout",
          "text": [
            "<class 'numpy.ndarray'>\n",
            "(100000,)\n",
            "object\n",
            "['disappointing i had this as a sample  then accidentally bought it  early kindle days  i just could not get into it  even though i tried for several days '\n",
            " 'origin of the dark knight this film could have really done with tim burton being back in the director s chair  this prequel to  batman  doesn t have any of the gothic feel that made the original film so enjoyable  the elaborate architecture has gone to be replaced by generic skyscrapers  it just doesn t feel like it is set before the events in batman     the scenes set in the asian mountains drag on far too long and only add a minimal amount to the plot  but i found it interesting that bruce wayne went to such lengths to  understand  the criminals that he longs to bring to justice     if you have read the comic books regarding the origins of batman then the fear of bats and death of bruce wayne s parents is nothing new  but i guess this film was not for the avid comic book fans but average movie goers     i don t feel i have learned all that much about one of my favourite characters by watching this film  i don t think christian bale was very convincing as the dark knight either     the whole thing is about 20 minutes too long in my opinion '\n",
            " 'absolutely fantastic   best book i ve read in a long while usually a fan of horrors  this book was purchased without much intention of actually reading it  a  back up  for if i ever ran out of gory horrors to devour   however  i loved it and it s fantastic  i urge you to read it']\n"
          ]
        }
      ],
      "source": [
        "print(type(X.values))\n",
        "print(X.values.shape)\n",
        "print(X.values.dtype)\n",
        "X_val = X.values\n",
        "print(X_val[:3])"
      ]
    },
    {
      "cell_type": "code",
      "execution_count": 34,
      "metadata": {
        "id": "MVFboKoapaYB"
      },
      "outputs": [],
      "source": [
        "encoder.adapt(X_val)"
      ]
    },
    {
      "cell_type": "code",
      "execution_count": 35,
      "metadata": {
        "colab": {
          "base_uri": "https://localhost:8080/"
        },
        "id": "QlJiFbhXpaYB",
        "outputId": "b3116e2d-d8dd-40c2-bc3c-fc13efa4d103"
      },
      "outputs": [
        {
          "output_type": "stream",
          "name": "stdout",
          "text": [
            "['' '[UNK]' 'the' 'de' 'a' 'br' 'and' 'le' 'et' 'to' 'eacute' 'of' 'la'\n",
            " 'est' 'i' 'un' 'it' 'l' 'd' 'is']\n"
          ]
        }
      ],
      "source": [
        "#check the vocabulary\n",
        "vocab = np.array(encoder.get_vocabulary())\n",
        "print(vocab[:20])"
      ]
    },
    {
      "cell_type": "code",
      "execution_count": 36,
      "metadata": {
        "colab": {
          "base_uri": "https://localhost:8080/"
        },
        "id": "taUrhu3TpaYC",
        "outputId": "8056e2d8-43ce-415d-8aea-f40e960db9b0"
      },
      "outputs": [
        {
          "output_type": "stream",
          "name": "stdout",
          "text": [
            "['disappointing i had this as a sample  then accidentally bought it  early kindle days  i just could not get into it  even though i tried for several days '\n",
            " 'origin of the dark knight this film could have really done with tim burton being back in the director s chair  this prequel to  batman  doesn t have any of the gothic feel that made the original film so enjoyable  the elaborate architecture has gone to be replaced by generic skyscrapers  it just doesn t feel like it is set before the events in batman     the scenes set in the asian mountains drag on far too long and only add a minimal amount to the plot  but i found it interesting that bruce wayne went to such lengths to  understand  the criminals that he longs to bring to justice     if you have read the comic books regarding the origins of batman then the fear of bats and death of bruce wayne s parents is nothing new  but i guess this film was not for the avid comic book fans but average movie goers     i don t feel i have learned all that much about one of my favourite characters by watching this film  i don t think christian bale was very convincing as the dark knight either     the whole thing is about 20 minutes too long in my opinion '\n",
            " 'absolutely fantastic   best book i ve read in a long while usually a fan of horrors  this book was purchased without much intention of actually reading it  a  back up  for if i ever ran out of gory horrors to devour   however  i loved it and it s fantastic  i urge you to read it']\n",
            "[[  523    14   129    25    42     4  6941   176 11561   341    16   923\n",
            "    517   709    14    91   194    47   134   185    16   174   321    14\n",
            "   1141    41  1163   709     0     0     0     0     0     0     0     0\n",
            "      0     0     0     0     0     0     0     0     0     0     0     0\n",
            "      0     0     0     0     0     0     0     0     0     0     0     0\n",
            "      0     0     0     0     0     0     0     0     0     0     0     0\n",
            "      0     0     0     0     0     0     0     0     0     0     0     0\n",
            "      0     0     0     0     0     0     0     0     0     0     0     0\n",
            "      0     0     0     0     0     0     0     0     0     0     0     0\n",
            "      0     0     0     0     0     0     0     0     0     0     0     0\n",
            "      0     0     0     0     0     0     0     0     0     0     0     0\n",
            "      0     0     0     0     0     0     0     0     0     0     0     0\n",
            "      0     0     0     0     0     0     0     0     0     0     0     0\n",
            "      0     0     0     0     0     0     0     0     0     0     0     0\n",
            "      0     0     0     0     0     0     0     0     0     0     0     0\n",
            "      0     0     0     0     0     0     0     0     0     0     0     0\n",
            "      0     0     0     0     0     0     0]\n",
            " [ 7106    11     2   791  4529    25    32   194    57   114   541    51\n",
            "   2342  2180   262   244    27     2   999    21  4716    25  7411     9\n",
            "   1404   376    48    57   204    11     2  7638   362    36   282     2\n",
            "    283    32    76   730     2 11874  8693   109  1048     9    66  4495\n",
            "     96  6913 37743    16    91   376    48   362    85    16    19   404\n",
            "    333     2  1567    27  1404     2   537   404    27     2 13820 11008\n",
            "   5666    22   352   156   209     6   138  1290     4  7776  2140     9\n",
            "      2   320    39    14   290    16   375    36  1541  4471  1012     9\n",
            "    312 14500     9   820     2 14864    36   106  3605     9  1590     9\n",
            "   1890    92    50    57   107     2  1856   267  4886     2  8840    11\n",
            "   1404   176     2  2819    11 17718     6   908    11  1541  4471    21\n",
            "   1645    19   355   218    39    14  1397    25    32    45    47    41\n",
            "      2  6263  1856    62   292    39  1408   191 33864    14   158    48\n",
            "    362    14    57  4388    72    36   132   113    77    11    78   932\n",
            "    228    96   561    25    32    14   158    48   212  1994  5242    45\n",
            "     81  2884    42     2   791  4529   808     2   472   409    19   113\n",
            "    682   384   156   209    27    78   812]\n",
            " [  910   665   181    62    14   289   107    27     4   209   405  1683\n",
            "      4   230    11  8473    25    62    45  1854   442   132  4871    11\n",
            "    484   303    16     4   244   118    41    92    14   326  5254   115\n",
            "     11  7571  8473     9 30344   276    14   471    16     6    16    21\n",
            "    665    14  7533    50     9   107    16     0     0     0     0     0\n",
            "      0     0     0     0     0     0     0     0     0     0     0     0\n",
            "      0     0     0     0     0     0     0     0     0     0     0     0\n",
            "      0     0     0     0     0     0     0     0     0     0     0     0\n",
            "      0     0     0     0     0     0     0     0     0     0     0     0\n",
            "      0     0     0     0     0     0     0     0     0     0     0     0\n",
            "      0     0     0     0     0     0     0     0     0     0     0     0\n",
            "      0     0     0     0     0     0     0     0     0     0     0     0\n",
            "      0     0     0     0     0     0     0     0     0     0     0     0\n",
            "      0     0     0     0     0     0     0     0     0     0     0     0\n",
            "      0     0     0     0     0     0     0     0     0     0     0     0\n",
            "      0     0     0     0     0     0     0     0     0     0     0     0\n",
            "      0     0     0     0     0     0     0]]\n"
          ]
        }
      ],
      "source": [
        "#check the encoding functionality\n",
        "example = X_val[:3]\n",
        "encoded_example = encoder(example).numpy()\n",
        "print(example)\n",
        "print(encoded_example)"
      ]
    },
    {
      "cell_type": "code",
      "execution_count": 37,
      "metadata": {
        "id": "5t2gc6DUpaYC"
      },
      "outputs": [],
      "source": [
        "#find the avg feature vector size for input.\n",
        "df['word_list'] = df['review'].map(lambda x:str(x).split())"
      ]
    },
    {
      "cell_type": "code",
      "execution_count": 38,
      "metadata": {
        "id": "Lv9f_W_WpaYC"
      },
      "outputs": [],
      "source": [
        "df['word_len'] = df['word_list'].map(lambda x:len(x))"
      ]
    },
    {
      "cell_type": "code",
      "execution_count": 39,
      "metadata": {
        "colab": {
          "base_uri": "https://localhost:8080/",
          "height": 363
        },
        "id": "AiFJ9S8VpaYD",
        "outputId": "8764b58a-dce6-424c-e4d6-5b6321cf19e9"
      },
      "outputs": [
        {
          "output_type": "execute_result",
          "data": {
            "text/html": [
              "<div>\n",
              "<style scoped>\n",
              "    .dataframe tbody tr th:only-of-type {\n",
              "        vertical-align: middle;\n",
              "    }\n",
              "\n",
              "    .dataframe tbody tr th {\n",
              "        vertical-align: top;\n",
              "    }\n",
              "\n",
              "    .dataframe thead th {\n",
              "        text-align: right;\n",
              "    }\n",
              "</style>\n",
              "<table border=\"1\" class=\"dataframe\">\n",
              "  <thead>\n",
              "    <tr style=\"text-align: right;\">\n",
              "      <th></th>\n",
              "      <th>review</th>\n",
              "      <th>star_rating</th>\n",
              "      <th>word_list</th>\n",
              "      <th>word_len</th>\n",
              "    </tr>\n",
              "  </thead>\n",
              "  <tbody>\n",
              "    <tr>\n",
              "      <th>1059547</th>\n",
              "      <td>disappointing i had this as a sample  then acc...</td>\n",
              "      <td>0.2</td>\n",
              "      <td>[disappointing, i, had, this, as, a, sample, t...</td>\n",
              "      <td>28</td>\n",
              "    </tr>\n",
              "    <tr>\n",
              "      <th>1220190</th>\n",
              "      <td>origin of the dark knight this film could have...</td>\n",
              "      <td>0.4</td>\n",
              "      <td>[origin, of, the, dark, knight, this, film, co...</td>\n",
              "      <td>199</td>\n",
              "    </tr>\n",
              "    <tr>\n",
              "      <th>866978</th>\n",
              "      <td>absolutely fantastic   best book i ve read in ...</td>\n",
              "      <td>1.0</td>\n",
              "      <td>[absolutely, fantastic, best, book, i, ve, rea...</td>\n",
              "      <td>55</td>\n",
              "    </tr>\n",
              "    <tr>\n",
              "      <th>119482</th>\n",
              "      <td>batterie hs au bout de 5 mois je suis très déç...</td>\n",
              "      <td>0.2</td>\n",
              "      <td>[batterie, hs, au, bout, de, 5, mois, je, suis...</td>\n",
              "      <td>34</td>\n",
              "    </tr>\n",
              "    <tr>\n",
              "      <th>120960</th>\n",
              "      <td>rihanna christina alicia et les autres  rihann...</td>\n",
              "      <td>0.2</td>\n",
              "      <td>[rihanna, christina, alicia, et, les, autres, ...</td>\n",
              "      <td>249</td>\n",
              "    </tr>\n",
              "    <tr>\n",
              "      <th>10010</th>\n",
              "      <td>du pur bonheur dommage du format 4 3  pour le ...</td>\n",
              "      <td>0.8</td>\n",
              "      <td>[du, pur, bonheur, dommage, du, format, 4, 3, ...</td>\n",
              "      <td>30</td>\n",
              "    </tr>\n",
              "    <tr>\n",
              "      <th>119452</th>\n",
              "      <td>grosse deception ne pas acheter cet album  pou...</td>\n",
              "      <td>0.4</td>\n",
              "      <td>[grosse, deception, ne, pas, acheter, cet, alb...</td>\n",
              "      <td>364</td>\n",
              "    </tr>\n",
              "    <tr>\n",
              "      <th>100091</th>\n",
              "      <td>bon film d action un peu dans la lignée de cer...</td>\n",
              "      <td>0.8</td>\n",
              "      <td>[bon, film, d, action, un, peu, dans, la, lign...</td>\n",
              "      <td>50</td>\n",
              "    </tr>\n",
              "    <tr>\n",
              "      <th>752237</th>\n",
              "      <td>one star not very good</td>\n",
              "      <td>0.2</td>\n",
              "      <td>[one, star, not, very, good]</td>\n",
              "      <td>5</td>\n",
              "    </tr>\n",
              "    <tr>\n",
              "      <th>204613</th>\n",
              "      <td>on passe devant un film sans grand interet un ...</td>\n",
              "      <td>0.4</td>\n",
              "      <td>[on, passe, devant, un, film, sans, grand, int...</td>\n",
              "      <td>44</td>\n",
              "    </tr>\n",
              "  </tbody>\n",
              "</table>\n",
              "</div>"
            ],
            "text/plain": [
              "                                                    review  ...  word_len\n",
              "1059547  disappointing i had this as a sample  then acc...  ...        28\n",
              "1220190  origin of the dark knight this film could have...  ...       199\n",
              "866978   absolutely fantastic   best book i ve read in ...  ...        55\n",
              "119482   batterie hs au bout de 5 mois je suis très déç...  ...        34\n",
              "120960   rihanna christina alicia et les autres  rihann...  ...       249\n",
              "10010    du pur bonheur dommage du format 4 3  pour le ...  ...        30\n",
              "119452   grosse deception ne pas acheter cet album  pou...  ...       364\n",
              "100091   bon film d action un peu dans la lignée de cer...  ...        50\n",
              "752237                              one star not very good  ...         5\n",
              "204613   on passe devant un film sans grand interet un ...  ...        44\n",
              "\n",
              "[10 rows x 4 columns]"
            ]
          },
          "metadata": {},
          "execution_count": 39
        }
      ],
      "source": [
        "#check the dataset\n",
        "df.head(10)"
      ]
    },
    {
      "cell_type": "code",
      "execution_count": 40,
      "metadata": {
        "colab": {
          "base_uri": "https://localhost:8080/"
        },
        "id": "6FpezbUDpaYD",
        "outputId": "5d790b82-2bdf-4082-f4a5-b0dbe7380ae7"
      },
      "outputs": [
        {
          "output_type": "stream",
          "name": "stdout",
          "text": [
            "0.97729\n"
          ]
        }
      ],
      "source": [
        "#get the ratio of reviews having <512 words.\n",
        "ratio = len(df[df['word_len']<512].index)/100000\n",
        "print(ratio)"
      ]
    },
    {
      "cell_type": "code",
      "execution_count": 41,
      "metadata": {
        "colab": {
          "base_uri": "https://localhost:8080/"
        },
        "id": "Liyk_ABjpaYD",
        "outputId": "0cb31bc6-8aca-403f-b483-4c57eab6d234"
      },
      "outputs": [
        {
          "output_type": "execute_result",
          "data": {
            "text/plain": [
              "96.47764"
            ]
          },
          "metadata": {},
          "execution_count": 41
        }
      ],
      "source": [
        "df['word_len'].mean()"
      ]
    },
    {
      "cell_type": "code",
      "execution_count": 42,
      "metadata": {
        "colab": {
          "base_uri": "https://localhost:8080/"
        },
        "id": "JauEvnlbpaYD",
        "outputId": "e81f0447-4a5e-42eb-d123-9322617bef4f"
      },
      "outputs": [
        {
          "output_type": "stream",
          "name": "stdout",
          "text": [
            "INFO:tensorflow:Reduce to /job:localhost/replica:0/task:0/device:CPU:0 then broadcast to ('/job:localhost/replica:0/task:0/device:CPU:0',).\n",
            "INFO:tensorflow:Reduce to /job:localhost/replica:0/task:0/device:CPU:0 then broadcast to ('/job:localhost/replica:0/task:0/device:CPU:0',).\n",
            "INFO:tensorflow:Reduce to /job:localhost/replica:0/task:0/device:CPU:0 then broadcast to ('/job:localhost/replica:0/task:0/device:CPU:0',).\n",
            "INFO:tensorflow:Reduce to /job:localhost/replica:0/task:0/device:CPU:0 then broadcast to ('/job:localhost/replica:0/task:0/device:CPU:0',).\n"
          ]
        }
      ],
      "source": [
        "#define the first bLSTM + dense\n",
        "with strategy.scope():\n",
        "    rnn_model = tf.keras.Sequential([\n",
        "        encoder,\n",
        "        tf.keras.layers.Embedding(\n",
        "            input_dim=len(encoder.get_vocabulary()),\n",
        "            output_dim=128,\n",
        "            # Use masking to handle the variable sequence lengths\n",
        "            mask_zero=True),\n",
        "        tf.keras.layers.Bidirectional(tf.keras.layers.LSTM(128,name='LSTM_layer_1')),\n",
        "        tf.keras.layers.Dense(128, activation='relu'),\n",
        "        tf.keras.layers.Dense(64, activation='relu'),\n",
        "        tf.keras.layers.Dense(5,activation='softmax')\n",
        "    ])\n",
        "    \n",
        "\n",
        "    rnn_model.compile(optimizer='adam',\n",
        "                  loss=tf.keras.losses.CategoricalCrossentropy(),\n",
        "                  metrics=['accuracy'])\n",
        "\n"
      ]
    },
    {
      "cell_type": "code",
      "execution_count": 43,
      "metadata": {
        "colab": {
          "base_uri": "https://localhost:8080/"
        },
        "id": "ww34NhDapaYE",
        "outputId": "676d8f21-f8f0-480f-a08e-14a5a4cfc2c9"
      },
      "outputs": [
        {
          "output_type": "stream",
          "name": "stdout",
          "text": [
            "Model: \"sequential\"\n",
            "_________________________________________________________________\n",
            " Layer (type)                Output Shape              Param #   \n",
            "=================================================================\n",
            " text_vectorization (TextVec  (None, None)             0         \n",
            " torization)                                                     \n",
            "                                                                 \n",
            " embedding (Embedding)       (None, None, 128)         6400000   \n",
            "                                                                 \n",
            " bidirectional (Bidirectiona  (None, 256)              263168    \n",
            " l)                                                              \n",
            "                                                                 \n",
            " dense (Dense)               (None, 128)               32896     \n",
            "                                                                 \n",
            " dense_1 (Dense)             (None, 64)                8256      \n",
            "                                                                 \n",
            " dense_2 (Dense)             (None, 5)                 325       \n",
            "                                                                 \n",
            "=================================================================\n",
            "Total params: 6,704,645\n",
            "Trainable params: 6,704,645\n",
            "Non-trainable params: 0\n",
            "_________________________________________________________________\n"
          ]
        }
      ],
      "source": [
        "#print model summary\n",
        "rnn_model.summary()"
      ]
    },
    {
      "cell_type": "code",
      "execution_count": 44,
      "metadata": {
        "colab": {
          "base_uri": "https://localhost:8080/"
        },
        "id": "ak2c0vuqpaYE",
        "outputId": "4a5672d8-ed35-41f2-8cbe-aa3d27773e33"
      },
      "outputs": [
        {
          "output_type": "stream",
          "name": "stdout",
          "text": [
            "WARNING:tensorflow:From /usr/local/lib/python3.7/dist-packages/keras/engine/training.py:2975: StrategyBase.unwrap (from tensorflow.python.distribute.distribute_lib) is deprecated and will be removed in a future version.\n",
            "Instructions for updating:\n",
            "use `experimental_local_results` instead.\n"
          ]
        },
        {
          "output_type": "execute_result",
          "data": {
            "text/plain": [
              "array([[0.20205891, 0.19891825, 0.199266  , 0.20050146, 0.19925536],\n",
              "       [0.20213494, 0.19922061, 0.20053123, 0.19970138, 0.19841179],\n",
              "       [0.20046923, 0.2000811 , 0.19987792, 0.19913758, 0.20043418]],\n",
              "      dtype=float32)"
            ]
          },
          "metadata": {},
          "execution_count": 44
        }
      ],
      "source": [
        "#test the model on sample data\n",
        "rnn_model.predict(example)"
      ]
    },
    {
      "cell_type": "code",
      "execution_count": 45,
      "metadata": {
        "id": "X06vB49ZpaYF"
      },
      "outputs": [],
      "source": [
        "#define the target values Y\n",
        "Y = df[\"star_rating\"].values\n",
        "Y = Y.reshape(-1,1)\n",
        "\n",
        "#onhot encoding\n",
        "from sklearn.preprocessing import OneHotEncoder\n",
        "\n",
        "one_hot_encoder = OneHotEncoder(handle_unknown='ignore')\n",
        "Y=one_hot_encoder.fit_transform(Y)\n",
        "Y=Y.toarray()"
      ]
    },
    {
      "cell_type": "code",
      "execution_count": 46,
      "metadata": {
        "colab": {
          "base_uri": "https://localhost:8080/"
        },
        "id": "JuhGHmpNpaYF",
        "outputId": "e4db4f7b-a4a0-4ea2-9c3c-ced8bcfc25f5"
      },
      "outputs": [
        {
          "output_type": "stream",
          "name": "stdout",
          "text": [
            "<class 'numpy.ndarray'>\n",
            "(100000, 5)\n",
            "float64\n"
          ]
        }
      ],
      "source": [
        "print(type(Y))\n",
        "print(Y.shape)\n",
        "print(Y.dtype)"
      ]
    },
    {
      "cell_type": "code",
      "execution_count": 47,
      "metadata": {
        "id": "XizukhWkpaYF"
      },
      "outputs": [],
      "source": [
        "#save the model for future use\n",
        "import pickle\n",
        "f1 = open('features.pkl','wb')\n",
        "f2 = open('labels.pkl','wb')\n",
        "pickle.dump(X,f1)\n",
        "pickle.dump(Y,f2)\n",
        "f1.close()\n",
        "f2.close()\n"
      ]
    },
    {
      "cell_type": "code",
      "execution_count": 48,
      "metadata": {
        "id": "QOqE5mvspaYG"
      },
      "outputs": [],
      "source": [
        "#split the traingin and testing data (80% for training) (20% for testing)\n",
        "X_train = X_val[:80000]\n",
        "Y_train = Y[:80000]\n",
        "\n",
        "X_test = X_val[80000:]\n",
        "Y_test = Y[80000:]"
      ]
    },
    {
      "cell_type": "code",
      "execution_count": 49,
      "metadata": {
        "colab": {
          "base_uri": "https://localhost:8080/"
        },
        "id": "XRX335tzpaYG",
        "outputId": "e6813f15-231d-4416-b5f7-84cdfad37fb5"
      },
      "outputs": [
        {
          "output_type": "stream",
          "name": "stdout",
          "text": [
            "Epoch 1/3\n",
            "INFO:tensorflow:Reduce to /job:localhost/replica:0/task:0/device:GPU:0 then broadcast to ('/job:localhost/replica:0/task:0/device:GPU:0', '/job:localhost/replica:0/task:0/device:GPU:0').\n",
            "INFO:tensorflow:Reduce to /job:localhost/replica:0/task:0/device:GPU:0 then broadcast to ('/job:localhost/replica:0/task:0/device:GPU:0', '/job:localhost/replica:0/task:0/device:GPU:0').\n",
            "INFO:tensorflow:Reduce to /job:localhost/replica:0/task:0/device:GPU:0 then broadcast to ('/job:localhost/replica:0/task:0/device:GPU:0', '/job:localhost/replica:0/task:0/device:GPU:0').\n",
            "INFO:tensorflow:Reduce to /job:localhost/replica:0/task:0/device:GPU:0 then broadcast to ('/job:localhost/replica:0/task:0/device:GPU:0', '/job:localhost/replica:0/task:0/device:GPU:0').\n",
            "INFO:tensorflow:Reduce to /job:localhost/replica:0/task:0/device:GPU:0 then broadcast to ('/job:localhost/replica:0/task:0/device:GPU:0', '/job:localhost/replica:0/task:0/device:GPU:0').\n",
            "INFO:tensorflow:Reduce to /job:localhost/replica:0/task:0/device:GPU:0 then broadcast to ('/job:localhost/replica:0/task:0/device:GPU:0', '/job:localhost/replica:0/task:0/device:GPU:0').\n",
            "INFO:tensorflow:Reduce to /job:localhost/replica:0/task:0/device:GPU:0 then broadcast to ('/job:localhost/replica:0/task:0/device:GPU:0', '/job:localhost/replica:0/task:0/device:GPU:0').\n",
            "INFO:tensorflow:Reduce to /job:localhost/replica:0/task:0/device:GPU:0 then broadcast to ('/job:localhost/replica:0/task:0/device:GPU:0', '/job:localhost/replica:0/task:0/device:GPU:0').\n",
            "INFO:tensorflow:Reduce to /job:localhost/replica:0/task:0/device:GPU:0 then broadcast to ('/job:localhost/replica:0/task:0/device:GPU:0', '/job:localhost/replica:0/task:0/device:GPU:0').\n",
            "INFO:tensorflow:Reduce to /job:localhost/replica:0/task:0/device:GPU:0 then broadcast to ('/job:localhost/replica:0/task:0/device:GPU:0', '/job:localhost/replica:0/task:0/device:GPU:0').\n",
            "INFO:tensorflow:Reduce to /job:localhost/replica:0/task:0/device:CPU:0 then broadcast to ('/job:localhost/replica:0/task:0/device:CPU:0',).\n",
            "INFO:tensorflow:Reduce to /job:localhost/replica:0/task:0/device:CPU:0 then broadcast to ('/job:localhost/replica:0/task:0/device:CPU:0',).\n",
            "INFO:tensorflow:Reduce to /job:localhost/replica:0/task:0/device:CPU:0 then broadcast to ('/job:localhost/replica:0/task:0/device:CPU:0',).\n",
            "INFO:tensorflow:Reduce to /job:localhost/replica:0/task:0/device:CPU:0 then broadcast to ('/job:localhost/replica:0/task:0/device:CPU:0',).\n",
            "INFO:tensorflow:Reduce to /job:localhost/replica:0/task:0/device:CPU:0 then broadcast to ('/job:localhost/replica:0/task:0/device:CPU:0',).\n",
            "INFO:tensorflow:Reduce to /job:localhost/replica:0/task:0/device:CPU:0 then broadcast to ('/job:localhost/replica:0/task:0/device:CPU:0',).\n",
            "8000/8000 [==============================] - 1621s 200ms/step - loss: 1.0927 - accuracy: 0.5188 - val_loss: 1.0374 - val_accuracy: 0.5512\n",
            "Epoch 2/3\n",
            "8000/8000 [==============================] - 1593s 199ms/step - loss: 0.8331 - accuracy: 0.6476 - val_loss: 1.0259 - val_accuracy: 0.5605\n",
            "Epoch 3/3\n",
            "8000/8000 [==============================] - 1616s 202ms/step - loss: 0.5869 - accuracy: 0.7664 - val_loss: 1.2097 - val_accuracy: 0.5404\n"
          ]
        }
      ],
      "source": [
        "#train on the training dataset using cross validation\n",
        "history = rnn_model.fit(\n",
        "    X_train,\n",
        "    Y_train,\n",
        "    epochs=3,\n",
        "    batch_size=8,\n",
        "    # Calculate validation results on 20% of the training data.\n",
        "    validation_split = 0.2)\n"
      ]
    },
    {
      "cell_type": "code",
      "execution_count": 50,
      "metadata": {
        "colab": {
          "base_uri": "https://localhost:8080/",
          "height": 283
        },
        "id": "0g4RRwbppaYG",
        "outputId": "967dc75f-9305-463b-f5be-789da73a5a9c"
      },
      "outputs": [
        {
          "output_type": "display_data",
          "data": {
            "image/png": "[encoded data removed]",
            "text/plain": [
              "<Figure size 432x288 with 1 Axes>"
            ]
          },
          "metadata": {
            "needs_background": "light"
          }
        }
      ],
      "source": [
        "#plot the history\n",
        "import matplotlib.pyplot as plt\n",
        "def plot_loss():\n",
        "  plt.plot([1.0953,0.8387,0.5957], label='training loss')\n",
        "  plt.plot([1.0080,0.9995,1.1812], label='val loss')\n",
        "  plt.ylim([0, 2.0])\n",
        "  plt.xlabel('Epoch')\n",
        "  plt.ylabel('loss')\n",
        "  plt.legend()\n",
        "  plt.grid(True)\n",
        "plot_loss()#plot the history\n"
      ]
    },
    {
      "cell_type": "code",
      "execution_count": 51,
      "metadata": {
        "colab": {
          "base_uri": "https://localhost:8080/",
          "height": 283
        },
        "id": "5EUKhjHHpaYG",
        "outputId": "32d8825c-097a-470e-fd1f-5e550febc84b"
      },
      "outputs": [
        {
          "output_type": "display_data",
          "data": {
            "image/png": "[encoded data removed]",
            "text/plain": [
              "<Figure size 432x288 with 1 Axes>"
            ]
          },
          "metadata": {
            "needs_background": "light"
          }
        }
      ],
      "source": [
        "def plot_accuracy():\n",
        "  plt.plot([0.5218,0.6446,0.7644], label='training accuracy')\n",
        "  plt.plot([0.5602,0.5679,0.5525], label='val accuracy')\n",
        "  plt.ylim([0.4, 1.0])\n",
        "  plt.xlabel('Epoch')\n",
        "  plt.ylabel('accuracy')\n",
        "  plt.legend()\n",
        "  plt.grid(True)\n",
        "\n",
        "plot_accuracy()"
      ]
    },
    {
      "cell_type": "code",
      "execution_count": 52,
      "metadata": {
        "colab": {
          "base_uri": "https://localhost:8080/"
        },
        "id": "r_Jq7qBipaYH",
        "outputId": "fede0f60-caa9-4351-e932-adb1350df880"
      },
      "outputs": [
        {
          "output_type": "stream",
          "name": "stderr",
          "text": [
            "WARNING:absl:Found untraced functions such as lstm_cell_1_layer_call_fn, lstm_cell_1_layer_call_and_return_conditional_losses, lstm_cell_2_layer_call_fn, lstm_cell_2_layer_call_and_return_conditional_losses, lstm_cell_1_layer_call_fn while saving (showing 5 of 10). These functions will not be directly callable after loading.\n"
          ]
        },
        {
          "output_type": "stream",
          "name": "stdout",
          "text": [
            "INFO:tensorflow:Assets written to: ./rnn_model/assets\n"
          ]
        },
        {
          "output_type": "stream",
          "name": "stderr",
          "text": [
            "INFO:tensorflow:Assets written to: ./rnn_model/assets\n",
            "WARNING:absl:<keras.layers.recurrent.LSTMCell object at 0x7f5ced27edd0> has the same name 'LSTMCell' as a built-in Keras object. Consider renaming <class 'keras.layers.recurrent.LSTMCell'> to avoid naming conflicts when loading with `tf.keras.models.load_model`. If renaming is not possible, pass the object in the `custom_objects` parameter of the load function.\n",
            "WARNING:absl:<keras.layers.recurrent.LSTMCell object at 0x7f5ced281b50> has the same name 'LSTMCell' as a built-in Keras object. Consider renaming <class 'keras.layers.recurrent.LSTMCell'> to avoid naming conflicts when loading with `tf.keras.models.load_model`. If renaming is not possible, pass the object in the `custom_objects` parameter of the load function.\n"
          ]
        }
      ],
      "source": [
        "#save the model for future usage\n",
        "rnn_model.save('./rnn_model')\n"
      ]
    },
    {
      "cell_type": "code",
      "execution_count": 53,
      "metadata": {
        "id": "w53f_EippaYH"
      },
      "outputs": [],
      "source": [
        "#evaluate the model of testing data\n",
        "rnn_model.trainable=False"
      ]
    },
    {
      "cell_type": "code",
      "execution_count": 54,
      "metadata": {
        "colab": {
          "base_uri": "https://localhost:8080/"
        },
        "id": "tK71oIk6paYH",
        "outputId": "b45c46b8-dc47-446f-e6b1-489b4030f4aa"
      },
      "outputs": [
        {
          "output_type": "stream",
          "name": "stdout",
          "text": [
            "625/625 [==============================] - 93s 139ms/step - loss: 1.1863 - accuracy: 0.5508\n"
          ]
        },
        {
          "output_type": "execute_result",
          "data": {
            "text/plain": [
              "[1.1863012313842773, 0.5508000254631042]"
            ]
          },
          "metadata": {},
          "execution_count": 54
        }
      ],
      "source": [
        "rnn_model.evaluate(X_test,Y_test)"
      ]
    },
    {
      "cell_type": "code",
      "execution_count": 55,
      "metadata": {
        "colab": {
          "base_uri": "https://localhost:8080/"
        },
        "id": "ip6Dj_NjpaYI",
        "outputId": "52acaf89-0e34-43b0-da7a-b221d0885c95"
      },
      "outputs": [
        {
          "output_type": "stream",
          "name": "stdout",
          "text": [
            "the predicted values =[[5.9563883e-02 8.0929506e-01 1.2719944e-01 3.4922054e-03 4.4934725e-04]\n",
            " [4.9572740e-02 4.5545655e-01 4.4117722e-01 4.8707318e-02 5.0860806e-03]\n",
            " [9.9600106e-01 3.6058989e-03 3.5842293e-04 3.0508104e-06 3.1627002e-05]\n",
            " [3.4538719e-03 2.0064492e-02 3.6592329e-01 5.5898142e-01 5.1576890e-02]\n",
            " [7.5487298e-01 2.3562372e-01 9.0180580e-03 3.5502858e-04 1.3028612e-04]\n",
            " [1.5272926e-01 3.6403537e-01 3.7956867e-01 8.7012902e-02 1.6653847e-02]\n",
            " [4.0711548e-02 1.8872343e-01 5.7620323e-01 1.6705705e-01 2.7304839e-02]\n",
            " [6.8398282e-02 4.8521143e-01 4.0137035e-01 4.1648071e-02 3.3718720e-03]\n",
            " [3.0462232e-01 6.5979028e-01 3.3334143e-02 1.5241152e-03 7.2908279e-04]\n",
            " [5.7120299e-01 3.1870392e-01 1.0317683e-01 4.7942847e-03 2.1219847e-03]]\n",
            "the real values      =[[0. 0. 1. 0. 0.]\n",
            " [1. 0. 0. 0. 0.]\n",
            " [1. 0. 0. 0. 0.]\n",
            " [0. 0. 1. 0. 0.]\n",
            " [1. 0. 0. 0. 0.]\n",
            " [0. 1. 0. 0. 0.]\n",
            " [0. 0. 0. 1. 0.]\n",
            " [0. 1. 0. 0. 0.]\n",
            " [1. 0. 0. 0. 0.]\n",
            " [0. 0. 1. 0. 0.]]\n"
          ]
        }
      ],
      "source": [
        "#find the prediction on testing data for RNN based model\n",
        "sample_X = X_test[:10]\n",
        "sample_Y = Y_test[:10]\n",
        "\n",
        "preds = rnn_model.predict(sample_X)\n",
        "print(f'the predicted values ={preds}')\n",
        "print(f'the real values      ={sample_Y}')\n"
      ]
    },
    {
      "cell_type": "code",
      "execution_count": 56,
      "metadata": {
        "id": "MUh1OVGmpaYI"
      },
      "outputs": [],
      "source": [
        "#calculate the precision,recall,f1 score,confusion matrix for the model\n",
        "from sklearn.metrics import f1_score,recall_score,precision_score,ConfusionMatrixDisplay"
      ]
    },
    {
      "cell_type": "code",
      "execution_count": 57,
      "metadata": {
        "colab": {
          "base_uri": "https://localhost:8080/"
        },
        "id": "_WS7J4XgpaYI",
        "outputId": "6d2e8c10-e869-48bd-9ec0-770e9215cbd0"
      },
      "outputs": [
        {
          "output_type": "stream",
          "name": "stdout",
          "text": [
            "(20000, 5)\n"
          ]
        }
      ],
      "source": [
        "Y_preds = rnn_model.predict(X_test)\n",
        "print(Y_preds.shape)"
      ]
    },
    {
      "cell_type": "code",
      "execution_count": 58,
      "metadata": {
        "id": "FL11EoHkpaYJ"
      },
      "outputs": [],
      "source": [
        "Y_preds_single = np.argmax(Y_preds,axis=1)\n",
        "Y_real = np.argmax(Y_test,axis=1)"
      ]
    },
    {
      "cell_type": "code",
      "execution_count": 59,
      "metadata": {
        "id": "5oj3OanGpaYJ"
      },
      "outputs": [],
      "source": [
        "#plot the f1 score the model across different classes\n",
        "f1 = f1_score(Y_real,Y_preds_single,average=None)\n",
        "recall = recall_score(Y_real,Y_preds_single,average=None)\n",
        "precision = precision_score(Y_real,Y_preds_single,average=None)"
      ]
    },
    {
      "cell_type": "code",
      "execution_count": 60,
      "metadata": {
        "colab": {
          "base_uri": "https://localhost:8080/"
        },
        "id": "RbfsSOfnpaYJ",
        "outputId": "e04141aa-924d-4cc0-eb5b-49216a47a457"
      },
      "outputs": [
        {
          "output_type": "stream",
          "name": "stdout",
          "text": [
            "Weighted F1 Score :  0.5520338884730466\n",
            "Weighted Recall Score :  0.5508\n",
            "Weighted Precision Score :  0.5602864880479681\n"
          ]
        }
      ],
      "source": [
        "print(\"Weighted F1 Score : \",f1_score(Y_real,Y_preds_single,average=\"weighted\"))\n",
        "print(\"Weighted Recall Score : \",recall_score(Y_real,Y_preds_single,average=\"weighted\"))\n",
        "print(\"Weighted Precision Score : \",precision_score(Y_real,Y_preds_single,average=\"weighted\"))"
      ]
    },
    {
      "cell_type": "code",
      "execution_count": 61,
      "metadata": {
        "colab": {
          "base_uri": "https://localhost:8080/",
          "height": 295
        },
        "id": "VI3f6LCWpaYJ",
        "outputId": "1a61f627-4570-41cf-f278-5d67f7caf0c1"
      },
      "outputs": [
        {
          "output_type": "display_data",
          "data": {
            "image/png": "[encoded data removed]",
            "text/plain": [
              "<Figure size 432x288 with 1 Axes>"
            ]
          },
          "metadata": {
            "needs_background": "light"
          }
        }
      ],
      "source": [
        "#plot the f1 score\n",
        "x = [1,2,3,4,5]\n",
        "plt.bar(x,f1,label='f1 score')\n",
        "plt.title('f1 score (all classes)')\n",
        "plt.xlabel('ratings')\n",
        "plt.ylabel('f1 score')\n",
        "plt.show()"
      ]
    },
    {
      "cell_type": "code",
      "execution_count": 62,
      "metadata": {
        "colab": {
          "base_uri": "https://localhost:8080/",
          "height": 295
        },
        "id": "uprHwat4paYK",
        "outputId": "e6ddb533-d4a7-48c0-82ca-be7bdefeb41b"
      },
      "outputs": [
        {
          "output_type": "display_data",
          "data": {
            "image/png": "[encoded data removed]",
            "text/plain": [
              "<Figure size 432x288 with 1 Axes>"
            ]
          },
          "metadata": {
            "needs_background": "light"
          }
        }
      ],
      "source": [
        "#plot the recall\n",
        "x = [1,2,3,4,5]\n",
        "plt.bar(x,recall,label='recall')\n",
        "plt.title('recall (all classes)')\n",
        "plt.xlabel('ratings')\n",
        "plt.ylabel('recall')\n",
        "plt.show()"
      ]
    },
    {
      "cell_type": "code",
      "execution_count": 63,
      "metadata": {
        "colab": {
          "base_uri": "https://localhost:8080/",
          "height": 295
        },
        "id": "zHwpz_uXpaYK",
        "outputId": "97dcb138-0a5f-43f4-980a-5c3c10c1a7bd"
      },
      "outputs": [
        {
          "output_type": "display_data",
          "data": {
            "image/png": "[encoded data removed]",
            "text/plain": [
              "<Figure size 432x288 with 1 Axes>"
            ]
          },
          "metadata": {
            "needs_background": "light"
          }
        }
      ],
      "source": [
        "#precision\n",
        "x = [1,2,3,4,5]\n",
        "plt.bar(x,precision,label='precision')\n",
        "plt.title('precision (all classes)')\n",
        "plt.xlabel('ratings')\n",
        "plt.ylabel('precision')\n",
        "plt.show()"
      ]
    },
    {
      "cell_type": "code",
      "execution_count": 64,
      "metadata": {
        "colab": {
          "base_uri": "https://localhost:8080/"
        },
        "id": "ZtCrUMhUpaYK",
        "outputId": "bb46ff64-686d-4599-b1a9-4361c7e30697"
      },
      "outputs": [
        {
          "output_type": "stream",
          "name": "stdout",
          "text": [
            "[[2231 1390  232   93   91]\n",
            " [ 688 2377  654  202   93]\n",
            " [ 181  939 1798  837  281]\n",
            " [  64  251  671 2060  957]\n",
            " [  41  104  212 1003 2550]]\n"
          ]
        }
      ],
      "source": [
        "#output the confusion matrix\n",
        "from sklearn.metrics import confusion_matrix\n",
        "cm = confusion_matrix(Y_real,Y_preds_single)\n",
        "print(cm)"
      ]
    },
    {
      "cell_type": "code",
      "execution_count": 65,
      "metadata": {
        "colab": {
          "base_uri": "https://localhost:8080/",
          "height": 282
        },
        "id": "FBGa7dawpaYL",
        "outputId": "d261310e-73fb-48fa-aaa6-4d9258a0447a"
      },
      "outputs": [
        {
          "output_type": "execute_result",
          "data": {
            "text/plain": [
              "<matplotlib.axes._subplots.AxesSubplot at 0x7f5cbb6a9350>"
            ]
          },
          "metadata": {},
          "execution_count": 65
        },
        {
          "output_type": "display_data",
          "data": {
            "image/png": "[encoded data removed]",
            "text/plain": [
              "<Figure size 432x288 with 2 Axes>"
            ]
          },
          "metadata": {
            "needs_background": "light"
          }
        }
      ],
      "source": [
        "import seaborn as sns\n",
        "sns.heatmap(cm,annot=True,fmt='g')"
      ]
    },
    {
      "cell_type": "code",
      "execution_count": 66,
      "metadata": {
        "colab": {
          "base_uri": "https://localhost:8080/"
        },
        "id": "30sECiHCpaYL",
        "outputId": "cb98a536-4b93-463a-81c5-6ddd06c1ff82"
      },
      "outputs": [
        {
          "output_type": "stream",
          "name": "stdout",
          "text": [
            "['imprévisibles l un des plus grands fers de lance du heavy metal made in england verrait il sa lame s émousser   c est ce que j ai été tenté de croire la première fois que j ai écouté cet album conceptuel intégralement inspiré de la vie du célèbre  visionnaire  michel de nostredame  trop long  1h42 au compteur   trop mou  beaucoup de titres lents  et donc au final trop ennuyeux  le retour du metal god rob halford n était il qu une fumisterie  ce que m avait laissé entrevoir le précédent album  angel of retribution  trop  bof    une écoute dans ma voiture  dans ma bulle  l oreille entièrement consacrée à ce double album  a totalement inversé la tendance  j étais littéralement prisonnier de cette grande forge où étaient façonnées quelques belles lames bien affûtées  certaines étant même incrustées de perles ensorcelées  l héroïque  plague and pestilence  et la poignante  alone  d autres  plus nombreuses  moins bien aiguisées mais tout de même de qualité  puis les écoutes suivantes furent plus inégales  un coup  j étais de nouveau sous le charme  un coup non   c est le problème des albums du genre  ces gros blocs qu on doit s enfiler d un trait  ils sont tellement longs  tellement  sur chargés qu il faut trouver le bon endroit et le bon moment pour pleinement y entrer  les longueurs  inévitables  étant appréhendées différemment selon nos dispositions  un concept plutôt réussi au final  mais qui demande un minimum d investissement de la part de l auditeur '\n",
            " 'problematique j ai essaye de l installer en deux tablet différentes et dans mon portable et dans touts les trois il m a laisse l appareil bloque  il n a pas réussi a le télécharger et en plus il m a oblige a formater ma tablet  je crois qu il dois avoir un problème  desole'\n",
            " 'twaddle twaddle   couldn t get in to this at all  and i made two attempts   not worth trying to analyse why other than to say it is dull as ditchwater writing posing as something important   the only thing to admire is that the author managed to get such great reviews   at least he is honest enough to admit that he set out to write something commercial br  br  do yourself a favour and read something by somebody who can write and who has something interesting to say ']\n",
            "the number of stars in the process =  [2 2 1]\n"
          ]
        }
      ],
      "source": [
        "#function to test our own statements\n",
        "import re\n",
        "\n",
        "values = X_test[:3]\n",
        "print(values)\n",
        "preds = rnn_model.predict(values)\n",
        "print(\"the number of stars in the process = \",np.argmax(preds,axis=1)+1)\n",
        "    "
      ]
    }
  ],
  "metadata": {
    "interpreter": {
      "hash": "6977af11dbf952fcf0436ed16e156c569ad0f9bbf70e2a2efda401ef7d9a6b7e"
    },
    "kernelspec": {
      "display_name": "Python 3",
      "language": "python",
      "name": "python3"
    },
    "language_info": {
      "codemirror_mode": {
        "name": "ipython",
        "version": 3
      },
      "file_extension": ".py",
      "mimetype": "text/x-python",
      "name": "python",
      "nbconvert_exporter": "python",
      "pygments_lexer": "ipython3",
      "version": "3.9.5"
    },
    "colab": {
      "name": "cnn_lstm.ipynb",
      "provenance": [],
      "include_colab_link": true
    },
    "accelerator": "GPU"
  },
  "nbformat": 4,
  "nbformat_minor": 0
}