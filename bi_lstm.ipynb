{
  "cells": [
    {
      "cell_type": "markdown",
      "metadata": {
        "id": "view-in-github",
        "colab_type": "text"
      },
      "source": [
        "<a href=\"https://colab.research.google.com/github/Priyanka-code-sys/Thesis_Priyanka/blob/main/bi_lstm.ipynb\" target=\"_parent\"><img src=\"https://colab.research.google.com/assets/colab-badge.svg\" alt=\"Open In Colab\"/></a>"
      ]
    },
    {
      "cell_type": "code",
      "execution_count": 1,
      "metadata": {
        "id": "32TzDJcApaXl"
      },
      "outputs": [],
      "source": [
        "import numpy as np\n",
        "import tensorflow as tf\n",
        "import pandas as pd\n",
        "import sklearn\n",
        "import matplotlib.pyplot as plt"
      ]
    },
    {
      "cell_type": "code",
      "execution_count": 2,
      "metadata": {
        "id": "dWTqpcadpaXo"
      },
      "outputs": [],
      "source": [
        "#set the memory growth for the gpu\n",
        "gpus = tf.config.experimental.list_physical_devices('GPU')\n",
        "for gpu in gpus:\n",
        "    tf.config.experimental.set_memory_growth(gpu,True)"
      ]
    },
    {
      "cell_type": "code",
      "execution_count": 3,
      "metadata": {
        "colab": {
          "base_uri": "https://localhost:8080/",
          "height": 0
        },
        "id": "nHrKDJ0GpaXp",
        "outputId": "eb7cd9d6-c12a-4353-e379-e22e9313d0ac"
      },
      "outputs": [
        {
          "output_type": "stream",
          "name": "stdout",
          "text": [
            "WARNING:tensorflow:Some requested devices in `tf.distribute.Strategy` are not visible to TensorFlow: /job:localhost/replica:0/task:0/device:GPU:0,/job:localhost/replica:0/task:0/device:GPU:1\n",
            "INFO:tensorflow:Using MirroredStrategy with devices ('/job:localhost/replica:0/task:0/device:GPU:0', '/job:localhost/replica:0/task:0/device:GPU:1')\n"
          ]
        }
      ],
      "source": [
        "#define the mirror stragy to use all gpus\n",
        "strategy = tf.distribute.MirroredStrategy([\"GPU:0\", \"GPU:1\"])"
      ]
    },
    {
      "cell_type": "code",
      "source": [
        "!wget https://s3.amazonaws.com/amazon-reviews-pds/tsv/amazon_reviews_multilingual_UK_v1_00.tsv.gz\n",
        "!wget https://s3.amazonaws.com/amazon-reviews-pds/tsv/amazon_reviews_multilingual_FR_v1_00.tsv.gz"
      ],
      "metadata": {
        "colab": {
          "base_uri": "https://localhost:8080/",
          "height": 0
        },
        "id": "jJD14HYapzsL",
        "outputId": "857d2ca7-5319-4d4b-b63f-0510f396891e"
      },
      "execution_count": 4,
      "outputs": [
        {
          "output_type": "stream",
          "name": "stdout",
          "text": [
            "--2021-12-15 09:55:01--  https://s3.amazonaws.com/amazon-reviews-pds/tsv/amazon_reviews_multilingual_UK_v1_00.tsv.gz\n",
            "Resolving s3.amazonaws.com (s3.amazonaws.com)... 52.216.88.37\n",
            "Connecting to s3.amazonaws.com (s3.amazonaws.com)|52.216.88.37|:443... connected.\n",
            "HTTP request sent, awaiting response... 200 OK\n",
            "Length: 349370868 (333M) [application/x-gzip]\n",
            "Saving to: ‘amazon_reviews_multilingual_UK_v1_00.tsv.gz’\n",
            "\n",
            "amazon_reviews_mult 100%[===================>] 333.19M  49.5MB/s    in 6.7s    \n",
            "\n",
            "2021-12-15 09:55:08 (49.5 MB/s) - ‘amazon_reviews_multilingual_UK_v1_00.tsv.gz’ saved [349370868/349370868]\n",
            "\n",
            "--2021-12-15 09:55:08--  https://s3.amazonaws.com/amazon-reviews-pds/tsv/amazon_reviews_multilingual_FR_v1_00.tsv.gz\n",
            "Resolving s3.amazonaws.com (s3.amazonaws.com)... 52.217.205.136\n",
            "Connecting to s3.amazonaws.com (s3.amazonaws.com)|52.217.205.136|:443... connected.\n",
            "HTTP request sent, awaiting response... 200 OK\n",
            "Length: 70583516 (67M) [application/x-gzip]\n",
            "Saving to: ‘amazon_reviews_multilingual_FR_v1_00.tsv.gz’\n",
            "\n",
            "amazon_reviews_mult 100%[===================>]  67.31M  63.0MB/s    in 1.1s    \n",
            "\n",
            "2021-12-15 09:55:09 (63.0 MB/s) - ‘amazon_reviews_multilingual_FR_v1_00.tsv.gz’ saved [70583516/70583516]\n",
            "\n"
          ]
        }
      ]
    },
    {
      "cell_type": "code",
      "execution_count": 5,
      "metadata": {
        "id": "bt-nO3OqpaXr"
      },
      "outputs": [],
      "source": [
        "#load the pandas dataframe\n",
        "#load the pandas dataframe\n",
        "df_en = pd.read_csv('amazon_reviews_multilingual_UK_v1_00.tsv.gz',delimiter = '\\t', quoting = 3)\n",
        "df_fr = pd.read_csv('amazon_reviews_multilingual_FR_v1_00.tsv.gz',delimiter = '\\t', quoting = 3)"
      ]
    },
    {
      "cell_type": "code",
      "execution_count": 7,
      "metadata": {
        "id": "Y5ePuqNIpaXs"
      },
      "outputs": [],
      "source": [
        "#remove the un-necessary rows and columns\n",
        "df_en = df_en.loc[:,['review_headline','review_body','star_rating']]\n",
        "df_fr = df_fr.loc[:,['review_headline','review_body','star_rating']]\n"
      ]
    },
    {
      "cell_type": "code",
      "execution_count": 8,
      "metadata": {
        "colab": {
          "base_uri": "https://localhost:8080/",
          "height": 0
        },
        "id": "kuZbeKh3paXs",
        "outputId": "3c82e641-ff31-4d27-a2e1-63b8aca4fa3f"
      },
      "outputs": [
        {
          "output_type": "stream",
          "name": "stdout",
          "text": [
            "1707494\n",
            "254080\n"
          ]
        }
      ],
      "source": [
        "#find the length of both the datasets\n",
        "print(len(df_en.index))\n",
        "print(len(df_fr.index))"
      ]
    },
    {
      "cell_type": "code",
      "execution_count": 9,
      "metadata": {
        "id": "weHQv2clpaXt"
      },
      "outputs": [],
      "source": [
        "#take 250k review from each dataset (to balance english and french dataset)\n",
        "df_en = sklearn.utils.shuffle(df_en)\n",
        "df_en = df_en[:250000]\n",
        "df_fr = sklearn.utils.shuffle(df_fr)\n",
        "df_fr = df_fr[:250000]"
      ]
    },
    {
      "cell_type": "code",
      "execution_count": 10,
      "metadata": {
        "id": "olyBZN_JpaXu"
      },
      "outputs": [],
      "source": [
        "#combine the dataset into single dataset\n",
        "df = pd.concat([df_en,df_fr])"
      ]
    },
    {
      "cell_type": "code",
      "execution_count": 11,
      "metadata": {
        "colab": {
          "base_uri": "https://localhost:8080/",
          "height": 206
        },
        "id": "6H0uIjqypaXu",
        "outputId": "7cd0cebf-9567-4117-a6a8-60aacb079cb5"
      },
      "outputs": [
        {
          "output_type": "execute_result",
          "data": {
            "text/html": [
              "<div>\n",
              "<style scoped>\n",
              "    .dataframe tbody tr th:only-of-type {\n",
              "        vertical-align: middle;\n",
              "    }\n",
              "\n",
              "    .dataframe tbody tr th {\n",
              "        vertical-align: top;\n",
              "    }\n",
              "\n",
              "    .dataframe thead th {\n",
              "        text-align: right;\n",
              "    }\n",
              "</style>\n",
              "<table border=\"1\" class=\"dataframe\">\n",
              "  <thead>\n",
              "    <tr style=\"text-align: right;\">\n",
              "      <th></th>\n",
              "      <th>review_headline</th>\n",
              "      <th>review_body</th>\n",
              "      <th>star_rating</th>\n",
              "    </tr>\n",
              "  </thead>\n",
              "  <tbody>\n",
              "    <tr>\n",
              "      <th>648587</th>\n",
              "      <td>Five Stars</td>\n",
              "      <td>So very clearly and logically explained.</td>\n",
              "      <td>5</td>\n",
              "    </tr>\n",
              "    <tr>\n",
              "      <th>121989</th>\n",
              "      <td>recommend to anyone</td>\n",
              "      <td>Great game, would definitely recommend downloa...</td>\n",
              "      <td>4</td>\n",
              "    </tr>\n",
              "    <tr>\n",
              "      <th>1036257</th>\n",
              "      <td>Fantastic read</td>\n",
              "      <td>I loved this book - a gripping read from start...</td>\n",
              "      <td>5</td>\n",
              "    </tr>\n",
              "    <tr>\n",
              "      <th>1662068</th>\n",
              "      <td>Beyond amazing</td>\n",
              "      <td>While some people don't like the story, my fam...</td>\n",
              "      <td>5</td>\n",
              "    </tr>\n",
              "    <tr>\n",
              "      <th>326821</th>\n",
              "      <td>Brilliant</td>\n",
              "      <td>Simply put, brilliant!&lt;br /&gt;&lt;br /&gt;A great, eas...</td>\n",
              "      <td>5</td>\n",
              "    </tr>\n",
              "  </tbody>\n",
              "</table>\n",
              "</div>"
            ],
            "text/plain": [
              "             review_headline  ... star_rating\n",
              "648587            Five Stars  ...           5\n",
              "121989   recommend to anyone  ...           4\n",
              "1036257       Fantastic read  ...           5\n",
              "1662068       Beyond amazing  ...           5\n",
              "326821             Brilliant  ...           5\n",
              "\n",
              "[5 rows x 3 columns]"
            ]
          },
          "metadata": {},
          "execution_count": 11
        }
      ],
      "source": [
        "df.head(5)"
      ]
    },
    {
      "cell_type": "code",
      "execution_count": 12,
      "metadata": {
        "colab": {
          "base_uri": "https://localhost:8080/",
          "height": 206
        },
        "id": "S0YvZ9TfpaXv",
        "outputId": "4bec1eb4-011f-45dd-db07-7939368835a2"
      },
      "outputs": [
        {
          "output_type": "execute_result",
          "data": {
            "text/html": [
              "<div>\n",
              "<style scoped>\n",
              "    .dataframe tbody tr th:only-of-type {\n",
              "        vertical-align: middle;\n",
              "    }\n",
              "\n",
              "    .dataframe tbody tr th {\n",
              "        vertical-align: top;\n",
              "    }\n",
              "\n",
              "    .dataframe thead th {\n",
              "        text-align: right;\n",
              "    }\n",
              "</style>\n",
              "<table border=\"1\" class=\"dataframe\">\n",
              "  <thead>\n",
              "    <tr style=\"text-align: right;\">\n",
              "      <th></th>\n",
              "      <th>review_headline</th>\n",
              "      <th>review_body</th>\n",
              "      <th>star_rating</th>\n",
              "    </tr>\n",
              "  </thead>\n",
              "  <tbody>\n",
              "    <tr>\n",
              "      <th>243310</th>\n",
              "      <td>TRIVIUM évolue encore !</td>\n",
              "      <td>Je possède tous les albums de TRIVIUM et au mo...</td>\n",
              "      <td>4</td>\n",
              "    </tr>\n",
              "    <tr>\n",
              "      <th>238378</th>\n",
              "      <td>Pas d'accord!</td>\n",
              "      <td>J'attendais tellement du dernier Terry Gilliam...</td>\n",
              "      <td>2</td>\n",
              "    </tr>\n",
              "    <tr>\n",
              "      <th>226633</th>\n",
              "      <td>Le bible pour faire du pain</td>\n",
              "      <td>Il faut avoir le temps, mais le livre est inst...</td>\n",
              "      <td>5</td>\n",
              "    </tr>\n",
              "    <tr>\n",
              "      <th>209220</th>\n",
              "      <td>Haletant</td>\n",
              "      <td>Super livre ! Passionnant et haletant jusqu'&amp;a...</td>\n",
              "      <td>4</td>\n",
              "    </tr>\n",
              "    <tr>\n",
              "      <th>85796</th>\n",
              "      <td>QUALITE VIDEO</td>\n",
              "      <td>Bonne série, mais pour du blu ray pas mal de p...</td>\n",
              "      <td>4</td>\n",
              "    </tr>\n",
              "  </tbody>\n",
              "</table>\n",
              "</div>"
            ],
            "text/plain": [
              "                    review_headline  ... star_rating\n",
              "243310      TRIVIUM évolue encore !  ...           4\n",
              "238378                Pas d'accord!  ...           2\n",
              "226633  Le bible pour faire du pain  ...           5\n",
              "209220                     Haletant  ...           4\n",
              "85796                 QUALITE VIDEO  ...           4\n",
              "\n",
              "[5 rows x 3 columns]"
            ]
          },
          "metadata": {},
          "execution_count": 12
        }
      ],
      "source": [
        "df.tail(5)"
      ]
    },
    {
      "cell_type": "code",
      "execution_count": 13,
      "metadata": {
        "id": "bnpT9M_5paXv"
      },
      "outputs": [],
      "source": [
        "#shuffle the dataset with sklearn\n",
        "df = sklearn.utils.shuffle(df)"
      ]
    },
    {
      "cell_type": "code",
      "execution_count": 14,
      "metadata": {
        "colab": {
          "base_uri": "https://localhost:8080/",
          "height": 206
        },
        "id": "Up4w4v3KpaXv",
        "outputId": "40191d16-cb1a-48a7-f161-eaa59c970da9"
      },
      "outputs": [
        {
          "output_type": "execute_result",
          "data": {
            "text/html": [
              "<div>\n",
              "<style scoped>\n",
              "    .dataframe tbody tr th:only-of-type {\n",
              "        vertical-align: middle;\n",
              "    }\n",
              "\n",
              "    .dataframe tbody tr th {\n",
              "        vertical-align: top;\n",
              "    }\n",
              "\n",
              "    .dataframe thead th {\n",
              "        text-align: right;\n",
              "    }\n",
              "</style>\n",
              "<table border=\"1\" class=\"dataframe\">\n",
              "  <thead>\n",
              "    <tr style=\"text-align: right;\">\n",
              "      <th></th>\n",
              "      <th>review_headline</th>\n",
              "      <th>review_body</th>\n",
              "      <th>star_rating</th>\n",
              "    </tr>\n",
              "  </thead>\n",
              "  <tbody>\n",
              "    <tr>\n",
              "      <th>1267927</th>\n",
              "      <td>Five Stars</td>\n",
              "      <td>Strange but good</td>\n",
              "      <td>5</td>\n",
              "    </tr>\n",
              "    <tr>\n",
              "      <th>225826</th>\n",
              "      <td>superbe album</td>\n",
              "      <td>enfin un album de satriani qui fait la part be...</td>\n",
              "      <td>5</td>\n",
              "    </tr>\n",
              "    <tr>\n",
              "      <th>54412</th>\n",
              "      <td>Très mimi</td>\n",
              "      <td>Très sympa petit film, pour enfant ou même adu...</td>\n",
              "      <td>5</td>\n",
              "    </tr>\n",
              "    <tr>\n",
              "      <th>14588</th>\n",
              "      <td>Very nice read. Turned out differently to what...</td>\n",
              "      <td>Very nice read.  Turned out differently to wha...</td>\n",
              "      <td>4</td>\n",
              "    </tr>\n",
              "    <tr>\n",
              "      <th>249766</th>\n",
              "      <td>incortounable</td>\n",
              "      <td>Ce DVD est indispensable pour la DVD thèque de...</td>\n",
              "      <td>5</td>\n",
              "    </tr>\n",
              "  </tbody>\n",
              "</table>\n",
              "</div>"
            ],
            "text/plain": [
              "                                           review_headline  ... star_rating\n",
              "1267927                                         Five Stars  ...           5\n",
              "225826                                       superbe album  ...           5\n",
              "54412                                            Très mimi  ...           5\n",
              "14588    Very nice read. Turned out differently to what...  ...           4\n",
              "249766                                       incortounable  ...           5\n",
              "\n",
              "[5 rows x 3 columns]"
            ]
          },
          "metadata": {},
          "execution_count": 14
        }
      ],
      "source": [
        "df.head(5)"
      ]
    },
    {
      "cell_type": "code",
      "execution_count": 15,
      "metadata": {
        "colab": {
          "base_uri": "https://localhost:8080/",
          "height": 206
        },
        "id": "nwPrbaRcpaXw",
        "outputId": "6ff8f48a-43c3-4d73-95db-f14ecb27aad6"
      },
      "outputs": [
        {
          "output_type": "execute_result",
          "data": {
            "text/html": [
              "<div>\n",
              "<style scoped>\n",
              "    .dataframe tbody tr th:only-of-type {\n",
              "        vertical-align: middle;\n",
              "    }\n",
              "\n",
              "    .dataframe tbody tr th {\n",
              "        vertical-align: top;\n",
              "    }\n",
              "\n",
              "    .dataframe thead th {\n",
              "        text-align: right;\n",
              "    }\n",
              "</style>\n",
              "<table border=\"1\" class=\"dataframe\">\n",
              "  <thead>\n",
              "    <tr style=\"text-align: right;\">\n",
              "      <th></th>\n",
              "      <th>review_headline</th>\n",
              "      <th>review_body</th>\n",
              "      <th>star_rating</th>\n",
              "    </tr>\n",
              "  </thead>\n",
              "  <tbody>\n",
              "    <tr>\n",
              "      <th>1206719</th>\n",
              "      <td>A Decent Enough Ride But...</td>\n",
              "      <td>On the whole I enjoyed Cloverfield. It is a we...</td>\n",
              "      <td>3</td>\n",
              "    </tr>\n",
              "    <tr>\n",
              "      <th>10005</th>\n",
              "      <td>Vraiment pas à rougir des grandes marques ...</td>\n",
              "      <td>Mouvement ETA 24 bijoux 100% Made in Suisse .....</td>\n",
              "      <td>5</td>\n",
              "    </tr>\n",
              "    <tr>\n",
              "      <th>241778</th>\n",
              "      <td>Bon album</td>\n",
              "      <td>Bon produit que j'attendais avec impatience.&lt;b...</td>\n",
              "      <td>4</td>\n",
              "    </tr>\n",
              "    <tr>\n",
              "      <th>80662</th>\n",
              "      <td>jamais reçu</td>\n",
              "      <td>Commandé mais jamais reçu , ou laissé dans un ...</td>\n",
              "      <td>1</td>\n",
              "    </tr>\n",
              "    <tr>\n",
              "      <th>550777</th>\n",
              "      <td>Classic Songs....Stunning Voice</td>\n",
              "      <td>I ( like many others, no doubt) bought the alb...</td>\n",
              "      <td>5</td>\n",
              "    </tr>\n",
              "  </tbody>\n",
              "</table>\n",
              "</div>"
            ],
            "text/plain": [
              "                                       review_headline  ... star_rating\n",
              "1206719                    A Decent Enough Ride But...  ...           3\n",
              "10005    Vraiment pas à rougir des grandes marques ...  ...           5\n",
              "241778                                       Bon album  ...           4\n",
              "80662                                      jamais reçu  ...           1\n",
              "550777                 Classic Songs....Stunning Voice  ...           5\n",
              "\n",
              "[5 rows x 3 columns]"
            ]
          },
          "metadata": {},
          "execution_count": 15
        }
      ],
      "source": [
        "df.tail(5)"
      ]
    },
    {
      "cell_type": "code",
      "execution_count": 16,
      "metadata": {
        "id": "F1EiyjQnpaXw"
      },
      "outputs": [],
      "source": [
        "#combine the review heading and review body\n",
        "df['review'] = df['review_headline'] + ' ' + df['review_body']\n",
        "df = df.loc[:,['review','star_rating']]"
      ]
    },
    {
      "cell_type": "code",
      "execution_count": 17,
      "metadata": {
        "colab": {
          "base_uri": "https://localhost:8080/",
          "height": 206
        },
        "id": "51yoTP8bpaXx",
        "outputId": "865687b9-e305-4be8-9092-c8f0007aa66d"
      },
      "outputs": [
        {
          "output_type": "execute_result",
          "data": {
            "text/html": [
              "<div>\n",
              "<style scoped>\n",
              "    .dataframe tbody tr th:only-of-type {\n",
              "        vertical-align: middle;\n",
              "    }\n",
              "\n",
              "    .dataframe tbody tr th {\n",
              "        vertical-align: top;\n",
              "    }\n",
              "\n",
              "    .dataframe thead th {\n",
              "        text-align: right;\n",
              "    }\n",
              "</style>\n",
              "<table border=\"1\" class=\"dataframe\">\n",
              "  <thead>\n",
              "    <tr style=\"text-align: right;\">\n",
              "      <th></th>\n",
              "      <th>review</th>\n",
              "      <th>star_rating</th>\n",
              "    </tr>\n",
              "  </thead>\n",
              "  <tbody>\n",
              "    <tr>\n",
              "      <th>1267927</th>\n",
              "      <td>Five Stars Strange but good</td>\n",
              "      <td>5</td>\n",
              "    </tr>\n",
              "    <tr>\n",
              "      <th>225826</th>\n",
              "      <td>superbe album enfin un album de satriani qui f...</td>\n",
              "      <td>5</td>\n",
              "    </tr>\n",
              "    <tr>\n",
              "      <th>54412</th>\n",
              "      <td>Très mimi Très sympa petit film, pour enfant o...</td>\n",
              "      <td>5</td>\n",
              "    </tr>\n",
              "    <tr>\n",
              "      <th>14588</th>\n",
              "      <td>Very nice read. Turned out differently to what...</td>\n",
              "      <td>4</td>\n",
              "    </tr>\n",
              "    <tr>\n",
              "      <th>249766</th>\n",
              "      <td>incortounable Ce DVD est indispensable pour la...</td>\n",
              "      <td>5</td>\n",
              "    </tr>\n",
              "  </tbody>\n",
              "</table>\n",
              "</div>"
            ],
            "text/plain": [
              "                                                    review  star_rating\n",
              "1267927                        Five Stars Strange but good            5\n",
              "225826   superbe album enfin un album de satriani qui f...            5\n",
              "54412    Très mimi Très sympa petit film, pour enfant o...            5\n",
              "14588    Very nice read. Turned out differently to what...            4\n",
              "249766   incortounable Ce DVD est indispensable pour la...            5"
            ]
          },
          "metadata": {},
          "execution_count": 17
        }
      ],
      "source": [
        "df.head(5)"
      ]
    },
    {
      "cell_type": "code",
      "execution_count": 18,
      "metadata": {
        "id": "ozysoSZ8paXx"
      },
      "outputs": [],
      "source": [
        "#clean the text using (convert into lower case + remove special chars)\n",
        "df['review'] = df['review'].str.lower()\n"
      ]
    },
    {
      "cell_type": "code",
      "execution_count": 19,
      "metadata": {
        "colab": {
          "base_uri": "https://localhost:8080/",
          "height": 206
        },
        "id": "G_ZmOOs1paXx",
        "outputId": "5722954c-6c42-4235-f08f-6b43774ff449"
      },
      "outputs": [
        {
          "output_type": "execute_result",
          "data": {
            "text/html": [
              "<div>\n",
              "<style scoped>\n",
              "    .dataframe tbody tr th:only-of-type {\n",
              "        vertical-align: middle;\n",
              "    }\n",
              "\n",
              "    .dataframe tbody tr th {\n",
              "        vertical-align: top;\n",
              "    }\n",
              "\n",
              "    .dataframe thead th {\n",
              "        text-align: right;\n",
              "    }\n",
              "</style>\n",
              "<table border=\"1\" class=\"dataframe\">\n",
              "  <thead>\n",
              "    <tr style=\"text-align: right;\">\n",
              "      <th></th>\n",
              "      <th>review</th>\n",
              "      <th>star_rating</th>\n",
              "    </tr>\n",
              "  </thead>\n",
              "  <tbody>\n",
              "    <tr>\n",
              "      <th>1267927</th>\n",
              "      <td>five stars strange but good</td>\n",
              "      <td>5</td>\n",
              "    </tr>\n",
              "    <tr>\n",
              "      <th>225826</th>\n",
              "      <td>superbe album enfin un album de satriani qui f...</td>\n",
              "      <td>5</td>\n",
              "    </tr>\n",
              "    <tr>\n",
              "      <th>54412</th>\n",
              "      <td>très mimi très sympa petit film, pour enfant o...</td>\n",
              "      <td>5</td>\n",
              "    </tr>\n",
              "    <tr>\n",
              "      <th>14588</th>\n",
              "      <td>very nice read. turned out differently to what...</td>\n",
              "      <td>4</td>\n",
              "    </tr>\n",
              "    <tr>\n",
              "      <th>249766</th>\n",
              "      <td>incortounable ce dvd est indispensable pour la...</td>\n",
              "      <td>5</td>\n",
              "    </tr>\n",
              "  </tbody>\n",
              "</table>\n",
              "</div>"
            ],
            "text/plain": [
              "                                                    review  star_rating\n",
              "1267927                        five stars strange but good            5\n",
              "225826   superbe album enfin un album de satriani qui f...            5\n",
              "54412    très mimi très sympa petit film, pour enfant o...            5\n",
              "14588    very nice read. turned out differently to what...            4\n",
              "249766   incortounable ce dvd est indispensable pour la...            5"
            ]
          },
          "metadata": {},
          "execution_count": 19
        }
      ],
      "source": [
        "df.head(5)"
      ]
    },
    {
      "cell_type": "code",
      "execution_count": 20,
      "metadata": {
        "id": "UyPAxOBtpaXy"
      },
      "outputs": [],
      "source": [
        "df['review'] =df['review'].str.replace(r'[^a-zA-Z0-9\\w\\sàâäôéèëêïîçùûüÿæœÀÂÄÔÉÈËÊÏÎŸÇÙÛÜÆŒ]+',' ',regex=True)"
      ]
    },
    {
      "cell_type": "code",
      "execution_count": 21,
      "metadata": {
        "colab": {
          "base_uri": "https://localhost:8080/",
          "height": 206
        },
        "id": "ziSdi8n3paX7",
        "outputId": "2b7be403-9fac-4d5e-f9f0-36dbc44d0b33"
      },
      "outputs": [
        {
          "output_type": "execute_result",
          "data": {
            "text/html": [
              "<div>\n",
              "<style scoped>\n",
              "    .dataframe tbody tr th:only-of-type {\n",
              "        vertical-align: middle;\n",
              "    }\n",
              "\n",
              "    .dataframe tbody tr th {\n",
              "        vertical-align: top;\n",
              "    }\n",
              "\n",
              "    .dataframe thead th {\n",
              "        text-align: right;\n",
              "    }\n",
              "</style>\n",
              "<table border=\"1\" class=\"dataframe\">\n",
              "  <thead>\n",
              "    <tr style=\"text-align: right;\">\n",
              "      <th></th>\n",
              "      <th>review</th>\n",
              "      <th>star_rating</th>\n",
              "    </tr>\n",
              "  </thead>\n",
              "  <tbody>\n",
              "    <tr>\n",
              "      <th>1267927</th>\n",
              "      <td>five stars strange but good</td>\n",
              "      <td>5</td>\n",
              "    </tr>\n",
              "    <tr>\n",
              "      <th>225826</th>\n",
              "      <td>superbe album enfin un album de satriani qui f...</td>\n",
              "      <td>5</td>\n",
              "    </tr>\n",
              "    <tr>\n",
              "      <th>54412</th>\n",
              "      <td>très mimi très sympa petit film  pour enfant o...</td>\n",
              "      <td>5</td>\n",
              "    </tr>\n",
              "    <tr>\n",
              "      <th>14588</th>\n",
              "      <td>very nice read  turned out differently to what...</td>\n",
              "      <td>4</td>\n",
              "    </tr>\n",
              "    <tr>\n",
              "      <th>249766</th>\n",
              "      <td>incortounable ce dvd est indispensable pour la...</td>\n",
              "      <td>5</td>\n",
              "    </tr>\n",
              "  </tbody>\n",
              "</table>\n",
              "</div>"
            ],
            "text/plain": [
              "                                                    review  star_rating\n",
              "1267927                        five stars strange but good            5\n",
              "225826   superbe album enfin un album de satriani qui f...            5\n",
              "54412    très mimi très sympa petit film  pour enfant o...            5\n",
              "14588    very nice read  turned out differently to what...            4\n",
              "249766   incortounable ce dvd est indispensable pour la...            5"
            ]
          },
          "metadata": {},
          "execution_count": 21
        }
      ],
      "source": [
        "df.head(5)"
      ]
    },
    {
      "cell_type": "code",
      "execution_count": 22,
      "metadata": {
        "id": "RiDfbxsFpaX8"
      },
      "outputs": [],
      "source": [
        "#balance the number dataset for same number of review for each rating\n",
        "df_five = df[df['star_rating']==5]\n",
        "df_four = df[df['star_rating']==4]\n",
        "df_three = df[df['star_rating']==3]\n",
        "df_two = df[df['star_rating']==2]\n",
        "df_one = df[df['star_rating']==1]\n"
      ]
    },
    {
      "cell_type": "code",
      "execution_count": null,
      "metadata": {
        "id": "NDvax2utpaX8"
      },
      "outputs": [],
      "source": [
        "#get the length of each reviews\n",
        "print(len(df_five.index))\n",
        "print(len(df_four.index))\n",
        "print(len(df_three.index))\n",
        "print(len(df_two.index))\n",
        "print(len(df_one.index))"
      ]
    },
    {
      "cell_type": "code",
      "execution_count": 24,
      "metadata": {
        "colab": {
          "base_uri": "https://localhost:8080/",
          "height": 295
        },
        "id": "SR6fuuJ0paX9",
        "outputId": "6c25cd40-646f-4f7b-a41d-a0423600ec2a"
      },
      "outputs": [
        {
          "output_type": "display_data",
          "data": {
            "image/png": "[encoded data removed]",
            "text/plain": [
              "<Figure size 432x288 with 1 Axes>"
            ]
          },
          "metadata": {
            "needs_background": "light"
          }
        }
      ],
      "source": [
        "#un balanced dataset\n",
        "y = [len(df_one.index),len(df_two.index),len(df_three.index),len(df_four.index),len(df_five.index)]\n",
        "x = [1,2,3,4,5]\n",
        "plt.bar(x,y,color='red',label='data-balance')\n",
        "plt.title('class frequency')\n",
        "plt.xlabel('classes')\n",
        "plt.ylabel('frequencies')\n",
        "plt.show()"
      ]
    },
    {
      "cell_type": "code",
      "execution_count": 25,
      "metadata": {
        "id": "2IlQCSHmpaX-"
      },
      "outputs": [],
      "source": [
        "#taking 20k from each review\n",
        "sample = 20000\n",
        "df = pd.concat([df_five[:sample],df_four[:sample],df_three[:sample],df_two[:sample],df_one[:sample]])"
      ]
    },
    {
      "cell_type": "code",
      "execution_count": 28,
      "metadata": {
        "colab": {
          "base_uri": "https://localhost:8080/",
          "height": 295
        },
        "id": "JgoFoDURpaX-",
        "outputId": "2a0fe77b-c5f9-4715-d165-f2068dd59ecc"
      },
      "outputs": [
        {
          "output_type": "display_data",
          "data": {
            "image/png": "[encoded data removed]",
            "text/plain": [
              "<Figure size 432x288 with 1 Axes>"
            ]
          },
          "metadata": {
            "needs_background": "light"
          }
        }
      ],
      "source": [
        "#balance the number dataset for same number of review for each rating\n",
        "df_five = df[df['star_rating']==5]\n",
        "df_four = df[df['star_rating']==4]\n",
        "df_three = df[df['star_rating']==3]\n",
        "df_two = df[df['star_rating']==2]\n",
        "df_one = df[df['star_rating']==1]\n",
        "#un balanced dataset\n",
        "y = [len(df_one.index),len(df_two.index),len(df_three.index),len(df_four.index),len(df_five.index)]\n",
        "x = [1,2,3,4,5]\n",
        "plt.bar(x,y,color='red',label='data-balance')\n",
        "plt.title('class frequency')\n",
        "plt.xlabel('classes')\n",
        "plt.ylabel('frequencies')\n",
        "plt.show()"
      ]
    },
    {
      "cell_type": "code",
      "execution_count": 27,
      "metadata": {
        "colab": {
          "base_uri": "https://localhost:8080/",
          "height": 0
        },
        "id": "u5OlFtHmpaX-",
        "outputId": "84d063c8-495f-47e1-8028-a4746048e1a0"
      },
      "outputs": [
        {
          "output_type": "stream",
          "name": "stdout",
          "text": [
            "100000\n"
          ]
        }
      ],
      "source": [
        "#total length of the dataset\n",
        "print(len(df.index))"
      ]
    },
    {
      "cell_type": "code",
      "execution_count": 29,
      "metadata": {
        "id": "bHBVQyDCpaX_"
      },
      "outputs": [],
      "source": [
        "#scale the ratings between 0-1\n",
        "df['star_rating'] = df['star_rating']/5"
      ]
    },
    {
      "cell_type": "code",
      "execution_count": 30,
      "metadata": {
        "colab": {
          "base_uri": "https://localhost:8080/",
          "height": 206
        },
        "id": "9xW4C6kbpaX_",
        "outputId": "3481f56c-27a0-4bed-b232-d96a80be20df"
      },
      "outputs": [
        {
          "output_type": "execute_result",
          "data": {
            "text/html": [
              "<div>\n",
              "<style scoped>\n",
              "    .dataframe tbody tr th:only-of-type {\n",
              "        vertical-align: middle;\n",
              "    }\n",
              "\n",
              "    .dataframe tbody tr th {\n",
              "        vertical-align: top;\n",
              "    }\n",
              "\n",
              "    .dataframe thead th {\n",
              "        text-align: right;\n",
              "    }\n",
              "</style>\n",
              "<table border=\"1\" class=\"dataframe\">\n",
              "  <thead>\n",
              "    <tr style=\"text-align: right;\">\n",
              "      <th></th>\n",
              "      <th>review</th>\n",
              "      <th>star_rating</th>\n",
              "    </tr>\n",
              "  </thead>\n",
              "  <tbody>\n",
              "    <tr>\n",
              "      <th>1267927</th>\n",
              "      <td>five stars strange but good</td>\n",
              "      <td>1.0</td>\n",
              "    </tr>\n",
              "    <tr>\n",
              "      <th>225826</th>\n",
              "      <td>superbe album enfin un album de satriani qui f...</td>\n",
              "      <td>1.0</td>\n",
              "    </tr>\n",
              "    <tr>\n",
              "      <th>54412</th>\n",
              "      <td>très mimi très sympa petit film  pour enfant o...</td>\n",
              "      <td>1.0</td>\n",
              "    </tr>\n",
              "    <tr>\n",
              "      <th>249766</th>\n",
              "      <td>incortounable ce dvd est indispensable pour la...</td>\n",
              "      <td>1.0</td>\n",
              "    </tr>\n",
              "    <tr>\n",
              "      <th>842031</th>\n",
              "      <td>great entertainment and excitement for a very ...</td>\n",
              "      <td>1.0</td>\n",
              "    </tr>\n",
              "  </tbody>\n",
              "</table>\n",
              "</div>"
            ],
            "text/plain": [
              "                                                    review  star_rating\n",
              "1267927                        five stars strange but good          1.0\n",
              "225826   superbe album enfin un album de satriani qui f...          1.0\n",
              "54412    très mimi très sympa petit film  pour enfant o...          1.0\n",
              "249766   incortounable ce dvd est indispensable pour la...          1.0\n",
              "842031   great entertainment and excitement for a very ...          1.0"
            ]
          },
          "metadata": {},
          "execution_count": 30
        }
      ],
      "source": [
        "df.head(5)"
      ]
    },
    {
      "cell_type": "code",
      "execution_count": 31,
      "metadata": {
        "colab": {
          "base_uri": "https://localhost:8080/",
          "height": 363
        },
        "id": "eRvVlxj2paX_",
        "outputId": "8525974f-2c33-4173-e670-055ca56736a0"
      },
      "outputs": [
        {
          "output_type": "execute_result",
          "data": {
            "text/html": [
              "<div>\n",
              "<style scoped>\n",
              "    .dataframe tbody tr th:only-of-type {\n",
              "        vertical-align: middle;\n",
              "    }\n",
              "\n",
              "    .dataframe tbody tr th {\n",
              "        vertical-align: top;\n",
              "    }\n",
              "\n",
              "    .dataframe thead th {\n",
              "        text-align: right;\n",
              "    }\n",
              "</style>\n",
              "<table border=\"1\" class=\"dataframe\">\n",
              "  <thead>\n",
              "    <tr style=\"text-align: right;\">\n",
              "      <th></th>\n",
              "      <th>review</th>\n",
              "      <th>star_rating</th>\n",
              "    </tr>\n",
              "  </thead>\n",
              "  <tbody>\n",
              "    <tr>\n",
              "      <th>35692</th>\n",
              "      <td>dvd lawrence d arabie image superbe  ce qui fa...</td>\n",
              "      <td>1.0</td>\n",
              "    </tr>\n",
              "    <tr>\n",
              "      <th>723041</th>\n",
              "      <td>a soulless film about special fx this movie lo...</td>\n",
              "      <td>0.4</td>\n",
              "    </tr>\n",
              "    <tr>\n",
              "      <th>1385285</th>\n",
              "      <td>four stars not bad</td>\n",
              "      <td>0.8</td>\n",
              "    </tr>\n",
              "    <tr>\n",
              "      <th>78951</th>\n",
              "      <td>décoiffant quelle vie  les commentateurs précé...</td>\n",
              "      <td>0.6</td>\n",
              "    </tr>\n",
              "    <tr>\n",
              "      <th>180172</th>\n",
              "      <td>bilan des débuts de carrière après avoir franc...</td>\n",
              "      <td>0.6</td>\n",
              "    </tr>\n",
              "    <tr>\n",
              "      <th>66852</th>\n",
              "      <td>très bon jeu mon enfant de 5 ans adore tous le...</td>\n",
              "      <td>0.8</td>\n",
              "    </tr>\n",
              "    <tr>\n",
              "      <th>1577351</th>\n",
              "      <td>i wonder why i bought this couldn t stand anot...</td>\n",
              "      <td>0.2</td>\n",
              "    </tr>\n",
              "    <tr>\n",
              "      <th>145675</th>\n",
              "      <td>petit  pratique et directe au but c est la res...</td>\n",
              "      <td>0.8</td>\n",
              "    </tr>\n",
              "    <tr>\n",
              "      <th>131824</th>\n",
              "      <td>c est une calculatrice  bof c est une calculat...</td>\n",
              "      <td>0.6</td>\n",
              "    </tr>\n",
              "    <tr>\n",
              "      <th>784389</th>\n",
              "      <td>ok  but not outrageous this film does show its...</td>\n",
              "      <td>0.6</td>\n",
              "    </tr>\n",
              "  </tbody>\n",
              "</table>\n",
              "</div>"
            ],
            "text/plain": [
              "                                                    review  star_rating\n",
              "35692    dvd lawrence d arabie image superbe  ce qui fa...          1.0\n",
              "723041   a soulless film about special fx this movie lo...          0.4\n",
              "1385285                                 four stars not bad          0.8\n",
              "78951    décoiffant quelle vie  les commentateurs précé...          0.6\n",
              "180172   bilan des débuts de carrière après avoir franc...          0.6\n",
              "66852    très bon jeu mon enfant de 5 ans adore tous le...          0.8\n",
              "1577351  i wonder why i bought this couldn t stand anot...          0.2\n",
              "145675   petit  pratique et directe au but c est la res...          0.8\n",
              "131824   c est une calculatrice  bof c est une calculat...          0.6\n",
              "784389   ok  but not outrageous this film does show its...          0.6"
            ]
          },
          "metadata": {},
          "execution_count": 31
        }
      ],
      "source": [
        "#shuffle the dataset again\n",
        "df = sklearn.utils.shuffle(df)\n",
        "df.head(10)"
      ]
    },
    {
      "cell_type": "code",
      "execution_count": 32,
      "metadata": {
        "id": "Hh9ueA3XpaYA"
      },
      "outputs": [],
      "source": [
        "#save the transformed dataset\n",
        "import pickle\n",
        "\n",
        "df.to_pickle(\"./dataset.pkl\")"
      ]
    },
    {
      "cell_type": "code",
      "execution_count": 33,
      "metadata": {
        "id": "5va59FwdpaYA"
      },
      "outputs": [],
      "source": [
        "#sepearate the dataframe into text reviews and ratings.\n",
        "VOCAB_SIZE = 50000\n",
        "with strategy.scope():\n",
        "    encoder = tf.keras.layers.TextVectorization(max_tokens=VOCAB_SIZE)"
      ]
    },
    {
      "cell_type": "code",
      "execution_count": 34,
      "metadata": {
        "id": "IEFVHsAKpaYA"
      },
      "outputs": [],
      "source": [
        "#adap the vocabulary on the data-set\n",
        "X = df['review'].map(lambda x:str(x))"
      ]
    },
    {
      "cell_type": "code",
      "execution_count": 35,
      "metadata": {
        "colab": {
          "base_uri": "https://localhost:8080/",
          "height": 0
        },
        "id": "pLFETVxBpaYA",
        "outputId": "b3c423f6-23e0-478f-a52b-2af3a7b0c706"
      },
      "outputs": [
        {
          "output_type": "stream",
          "name": "stdout",
          "text": [
            "<class 'numpy.ndarray'>\n",
            "(100000,)\n",
            "object\n",
            "['dvd lawrence d arabie image superbe  ce qui fait qu au final br  le film m a paru bien plus court qu avec la version dvd  br  nouvelle découverte des détails oubliés  br  bravo  '\n",
            " 'a soulless film about special fx this movie looks like a contest set up by cg animators for cg animators  let s make it as complicated as possible  they must have said  let s not have one brontosaur  let s have dozens of them  on a panicked rampage through a narrow gorge  let s not have kong fight a single tyrannosaur  let s have him fight three  not on the ground  but dangling from lianas  and then lets have lots more  giant leeches and giant spiders and giant centipedes  and  and  unfortunately  the self confidence of special effects people these days is not supported by the results in this film  the aforementioned brontosaur rampage looks thoroughly artificial and unrealistic  almost abstract  it disintegrates before our eyes  moreover  special effects by themselves do not make a movie   a message that seems very hard to get through to large budget filmmakers  this is one very disappointing production from the man who made lotr   he of all directors ought to know how to put digital fx to good use br  br  there are very few redeeming features  granted  the reconstruction of 1930 s nyc is impressive  though in the final part of the movie the set makers apparently weren t sure what season they were in   the sudden christmas interlude on a frozen pond in snowy central park is as incongruous as it is ridiculous  characters are flat as doormats  and utterly stereotyped  the ship s captain is gruff and taciturn  yet noble and brave  the actress is beautiful and vulnerable  yet plucky  the star actor of heroic roles is a vain coward  and the bookish writer turns out to be the bravest man of them all  and inexplicably sports a physique that suggests many hours in the gym rather than behind a typewriter  dialogue is painfully predictable  scared     no  should i be  even the much praised believability of the love affair between anna and the ape seems to be in the eye of the beholder  personally  i thought anna s burst of affection for a brutish monster that must have killed hundreds of innocent women in its time  made very little psychological sense br  br  maybe realism is the wrong thing to look for in a movie with this subject matter  but if you strip away every form of realism  what has the viewer left to relate to  all that remains is a cold  soulless  overlong  and very expensive video game en in its time  made very little psychological sense    br    br  maybe realism is the wrong thing to look for in a movie with this subject matter  but if you strip away every form of realism  what has the viewer left to relate to  all that remains is a cold  soulless  overlong  and very expensive video game '\n",
            " 'four stars not bad']\n"
          ]
        }
      ],
      "source": [
        "print(type(X.values))\n",
        "print(X.values.shape)\n",
        "print(X.values.dtype)\n",
        "X_val = X.values\n",
        "print(X_val[:3])"
      ]
    },
    {
      "cell_type": "code",
      "execution_count": 36,
      "metadata": {
        "id": "MVFboKoapaYB"
      },
      "outputs": [],
      "source": [
        "encoder.adapt(X_val)"
      ]
    },
    {
      "cell_type": "code",
      "execution_count": 37,
      "metadata": {
        "colab": {
          "base_uri": "https://localhost:8080/",
          "height": 0
        },
        "id": "QlJiFbhXpaYB",
        "outputId": "401f6749-9856-419b-d478-da136e73dc0d"
      },
      "outputs": [
        {
          "output_type": "stream",
          "name": "stdout",
          "text": [
            "['' '[UNK]' 'the' 'de' 'a' 'br' 'and' 'le' 'et' 'to' 'eacute' 'of' 'la'\n",
            " 'est' 'i' 'it' 'un' 'l' 'd' 'is']\n"
          ]
        }
      ],
      "source": [
        "#check the vocabulary\n",
        "vocab = np.array(encoder.get_vocabulary())\n",
        "print(vocab[:20])"
      ]
    },
    {
      "cell_type": "code",
      "execution_count": 38,
      "metadata": {
        "colab": {
          "base_uri": "https://localhost:8080/",
          "height": 0
        },
        "id": "taUrhu3TpaYC",
        "outputId": "ed46ad98-3aee-4fba-ddd5-ef4c6798cd3b"
      },
      "outputs": [
        {
          "output_type": "stream",
          "name": "stdout",
          "text": [
            "['dvd lawrence d arabie image superbe  ce qui fait qu au final br  le film m a paru bien plus court qu avec la version dvd  br  nouvelle découverte des détails oubliés  br  bravo  '\n",
            " 'a soulless film about special fx this movie looks like a contest set up by cg animators for cg animators  let s make it as complicated as possible  they must have said  let s not have one brontosaur  let s have dozens of them  on a panicked rampage through a narrow gorge  let s not have kong fight a single tyrannosaur  let s have him fight three  not on the ground  but dangling from lianas  and then lets have lots more  giant leeches and giant spiders and giant centipedes  and  and  unfortunately  the self confidence of special effects people these days is not supported by the results in this film  the aforementioned brontosaur rampage looks thoroughly artificial and unrealistic  almost abstract  it disintegrates before our eyes  moreover  special effects by themselves do not make a movie   a message that seems very hard to get through to large budget filmmakers  this is one very disappointing production from the man who made lotr   he of all directors ought to know how to put digital fx to good use br  br  there are very few redeeming features  granted  the reconstruction of 1930 s nyc is impressive  though in the final part of the movie the set makers apparently weren t sure what season they were in   the sudden christmas interlude on a frozen pond in snowy central park is as incongruous as it is ridiculous  characters are flat as doormats  and utterly stereotyped  the ship s captain is gruff and taciturn  yet noble and brave  the actress is beautiful and vulnerable  yet plucky  the star actor of heroic roles is a vain coward  and the bookish writer turns out to be the bravest man of them all  and inexplicably sports a physique that suggests many hours in the gym rather than behind a typewriter  dialogue is painfully predictable  scared     no  should i be  even the much praised believability of the love affair between anna and the ape seems to be in the eye of the beholder  personally  i thought anna s burst of affection for a brutish monster that must have killed hundreds of innocent women in its time  made very little psychological sense br  br  maybe realism is the wrong thing to look for in a movie with this subject matter  but if you strip away every form of realism  what has the viewer left to relate to  all that remains is a cold  soulless  overlong  and very expensive video game en in its time  made very little psychological sense    br    br  maybe realism is the wrong thing to look for in a movie with this subject matter  but if you strip away every form of realism  what has the viewer left to relate to  all that remains is a cold  soulless  overlong  and very expensive video game '\n",
            " 'four stars not bad']\n",
            "[[  111  5965    18 ...     0     0     0]\n",
            " [    4 17011    33 ...  2728  1072   208]\n",
            " [  458   138    47 ...     0     0     0]]\n"
          ]
        }
      ],
      "source": [
        "#check the encoding functionality\n",
        "example = X_val[:3]\n",
        "encoded_example = encoder(example).numpy()\n",
        "print(example)\n",
        "print(encoded_example)"
      ]
    },
    {
      "cell_type": "code",
      "execution_count": 39,
      "metadata": {
        "id": "5t2gc6DUpaYC"
      },
      "outputs": [],
      "source": [
        "#find the avg feature vector size for input.\n",
        "df['word_list'] = df['review'].map(lambda x:str(x).split())"
      ]
    },
    {
      "cell_type": "code",
      "execution_count": 40,
      "metadata": {
        "id": "Lv9f_W_WpaYC"
      },
      "outputs": [],
      "source": [
        "df['word_len'] = df['word_list'].map(lambda x:len(x))"
      ]
    },
    {
      "cell_type": "code",
      "execution_count": 41,
      "metadata": {
        "colab": {
          "base_uri": "https://localhost:8080/",
          "height": 363
        },
        "id": "AiFJ9S8VpaYD",
        "outputId": "1c0eba2c-8743-4459-b4b4-7972d1b266b0"
      },
      "outputs": [
        {
          "output_type": "execute_result",
          "data": {
            "text/html": [
              "<div>\n",
              "<style scoped>\n",
              "    .dataframe tbody tr th:only-of-type {\n",
              "        vertical-align: middle;\n",
              "    }\n",
              "\n",
              "    .dataframe tbody tr th {\n",
              "        vertical-align: top;\n",
              "    }\n",
              "\n",
              "    .dataframe thead th {\n",
              "        text-align: right;\n",
              "    }\n",
              "</style>\n",
              "<table border=\"1\" class=\"dataframe\">\n",
              "  <thead>\n",
              "    <tr style=\"text-align: right;\">\n",
              "      <th></th>\n",
              "      <th>review</th>\n",
              "      <th>star_rating</th>\n",
              "      <th>word_list</th>\n",
              "      <th>word_len</th>\n",
              "    </tr>\n",
              "  </thead>\n",
              "  <tbody>\n",
              "    <tr>\n",
              "      <th>35692</th>\n",
              "      <td>dvd lawrence d arabie image superbe  ce qui fa...</td>\n",
              "      <td>1.0</td>\n",
              "      <td>[dvd, lawrence, d, arabie, image, superbe, ce,...</td>\n",
              "      <td>34</td>\n",
              "    </tr>\n",
              "    <tr>\n",
              "      <th>723041</th>\n",
              "      <td>a soulless film about special fx this movie lo...</td>\n",
              "      <td>0.4</td>\n",
              "      <td>[a, soulless, film, about, special, fx, this, ...</td>\n",
              "      <td>466</td>\n",
              "    </tr>\n",
              "    <tr>\n",
              "      <th>1385285</th>\n",
              "      <td>four stars not bad</td>\n",
              "      <td>0.8</td>\n",
              "      <td>[four, stars, not, bad]</td>\n",
              "      <td>4</td>\n",
              "    </tr>\n",
              "    <tr>\n",
              "      <th>78951</th>\n",
              "      <td>décoiffant quelle vie  les commentateurs précé...</td>\n",
              "      <td>0.6</td>\n",
              "      <td>[décoiffant, quelle, vie, les, commentateurs, ...</td>\n",
              "      <td>146</td>\n",
              "    </tr>\n",
              "    <tr>\n",
              "      <th>180172</th>\n",
              "      <td>bilan des débuts de carrière après avoir franc...</td>\n",
              "      <td>0.6</td>\n",
              "      <td>[bilan, des, débuts, de, carrière, après, avoi...</td>\n",
              "      <td>122</td>\n",
              "    </tr>\n",
              "    <tr>\n",
              "      <th>66852</th>\n",
              "      <td>très bon jeu mon enfant de 5 ans adore tous le...</td>\n",
              "      <td>0.8</td>\n",
              "      <td>[très, bon, jeu, mon, enfant, de, 5, ans, ador...</td>\n",
              "      <td>32</td>\n",
              "    </tr>\n",
              "    <tr>\n",
              "      <th>1577351</th>\n",
              "      <td>i wonder why i bought this couldn t stand anot...</td>\n",
              "      <td>0.2</td>\n",
              "      <td>[i, wonder, why, i, bought, this, couldn, t, s...</td>\n",
              "      <td>135</td>\n",
              "    </tr>\n",
              "    <tr>\n",
              "      <th>145675</th>\n",
              "      <td>petit  pratique et directe au but c est la res...</td>\n",
              "      <td>0.8</td>\n",
              "      <td>[petit, pratique, et, directe, au, but, c, est...</td>\n",
              "      <td>199</td>\n",
              "    </tr>\n",
              "    <tr>\n",
              "      <th>131824</th>\n",
              "      <td>c est une calculatrice  bof c est une calculat...</td>\n",
              "      <td>0.6</td>\n",
              "      <td>[c, est, une, calculatrice, bof, c, est, une, ...</td>\n",
              "      <td>30</td>\n",
              "    </tr>\n",
              "    <tr>\n",
              "      <th>784389</th>\n",
              "      <td>ok  but not outrageous this film does show its...</td>\n",
              "      <td>0.6</td>\n",
              "      <td>[ok, but, not, outrageous, this, film, does, s...</td>\n",
              "      <td>86</td>\n",
              "    </tr>\n",
              "  </tbody>\n",
              "</table>\n",
              "</div>"
            ],
            "text/plain": [
              "                                                    review  ...  word_len\n",
              "35692    dvd lawrence d arabie image superbe  ce qui fa...  ...        34\n",
              "723041   a soulless film about special fx this movie lo...  ...       466\n",
              "1385285                                 four stars not bad  ...         4\n",
              "78951    décoiffant quelle vie  les commentateurs précé...  ...       146\n",
              "180172   bilan des débuts de carrière après avoir franc...  ...       122\n",
              "66852    très bon jeu mon enfant de 5 ans adore tous le...  ...        32\n",
              "1577351  i wonder why i bought this couldn t stand anot...  ...       135\n",
              "145675   petit  pratique et directe au but c est la res...  ...       199\n",
              "131824   c est une calculatrice  bof c est une calculat...  ...        30\n",
              "784389   ok  but not outrageous this film does show its...  ...        86\n",
              "\n",
              "[10 rows x 4 columns]"
            ]
          },
          "metadata": {},
          "execution_count": 41
        }
      ],
      "source": [
        "#check the dataset\n",
        "df.head(10)"
      ]
    },
    {
      "cell_type": "code",
      "execution_count": 42,
      "metadata": {
        "colab": {
          "base_uri": "https://localhost:8080/",
          "height": 0
        },
        "id": "6FpezbUDpaYD",
        "outputId": "d6a4263d-1c70-4f18-d27b-219d00fcd0f7"
      },
      "outputs": [
        {
          "output_type": "stream",
          "name": "stdout",
          "text": [
            "0.97762\n"
          ]
        }
      ],
      "source": [
        "#get the ratio of reviews having <512 words.\n",
        "ratio = len(df[df['word_len']<512].index)/100000\n",
        "print(ratio)"
      ]
    },
    {
      "cell_type": "code",
      "execution_count": 43,
      "metadata": {
        "colab": {
          "base_uri": "https://localhost:8080/",
          "height": 0
        },
        "id": "Liyk_ABjpaYD",
        "outputId": "60245106-df73-4e6f-c0ea-d53cb62eebdb"
      },
      "outputs": [
        {
          "output_type": "execute_result",
          "data": {
            "text/plain": [
              "96.56844"
            ]
          },
          "metadata": {},
          "execution_count": 43
        }
      ],
      "source": [
        "df['word_len'].mean()"
      ]
    },
    {
      "cell_type": "code",
      "execution_count": 44,
      "metadata": {
        "colab": {
          "base_uri": "https://localhost:8080/",
          "height": 0
        },
        "id": "JauEvnlbpaYD",
        "outputId": "1a74541d-e06c-4338-a221-835a5f8a49c1"
      },
      "outputs": [
        {
          "output_type": "stream",
          "name": "stdout",
          "text": [
            "INFO:tensorflow:Reduce to /job:localhost/replica:0/task:0/device:CPU:0 then broadcast to ('/job:localhost/replica:0/task:0/device:CPU:0',).\n",
            "INFO:tensorflow:Reduce to /job:localhost/replica:0/task:0/device:CPU:0 then broadcast to ('/job:localhost/replica:0/task:0/device:CPU:0',).\n",
            "INFO:tensorflow:Reduce to /job:localhost/replica:0/task:0/device:CPU:0 then broadcast to ('/job:localhost/replica:0/task:0/device:CPU:0',).\n",
            "INFO:tensorflow:Reduce to /job:localhost/replica:0/task:0/device:CPU:0 then broadcast to ('/job:localhost/replica:0/task:0/device:CPU:0',).\n"
          ]
        }
      ],
      "source": [
        "#define the first bLSTM + dense\n",
        "with strategy.scope():\n",
        "    rnn_model = tf.keras.Sequential([\n",
        "        encoder,\n",
        "        tf.keras.layers.Embedding(\n",
        "            input_dim=len(encoder.get_vocabulary()),\n",
        "            output_dim=128,\n",
        "            # Use masking to handle the variable sequence lengths\n",
        "            mask_zero=True),\n",
        "        tf.keras.layers.Bidirectional(tf.keras.layers.LSTM(128,name='LSTM_layer_1')),\n",
        "        tf.keras.layers.Dense(128, activation='relu'),\n",
        "        tf.keras.layers.Dense(64, activation='relu'),\n",
        "        tf.keras.layers.Dense(5,activation='softmax')\n",
        "    ])\n",
        "    \n",
        "\n",
        "    rnn_model.compile(optimizer='adam',\n",
        "                  loss=tf.keras.losses.CategoricalCrossentropy(),\n",
        "                  metrics=['accuracy'])\n",
        "\n"
      ]
    },
    {
      "cell_type": "code",
      "execution_count": 45,
      "metadata": {
        "colab": {
          "base_uri": "https://localhost:8080/",
          "height": 0
        },
        "id": "ww34NhDapaYE",
        "outputId": "06e87935-b975-41c9-d7b2-7645047a5550"
      },
      "outputs": [
        {
          "output_type": "stream",
          "name": "stdout",
          "text": [
            "Model: \"sequential\"\n",
            "_________________________________________________________________\n",
            " Layer (type)                Output Shape              Param #   \n",
            "=================================================================\n",
            " text_vectorization (TextVec  (None, None)             0         \n",
            " torization)                                                     \n",
            "                                                                 \n",
            " embedding (Embedding)       (None, None, 128)         6400000   \n",
            "                                                                 \n",
            " bidirectional (Bidirectiona  (None, 256)              263168    \n",
            " l)                                                              \n",
            "                                                                 \n",
            " dense (Dense)               (None, 128)               32896     \n",
            "                                                                 \n",
            " dense_1 (Dense)             (None, 64)                8256      \n",
            "                                                                 \n",
            " dense_2 (Dense)             (None, 5)                 325       \n",
            "                                                                 \n",
            "=================================================================\n",
            "Total params: 6,704,645\n",
            "Trainable params: 6,704,645\n",
            "Non-trainable params: 0\n",
            "_________________________________________________________________\n"
          ]
        }
      ],
      "source": [
        "#print model summary\n",
        "rnn_model.summary()"
      ]
    },
    {
      "cell_type": "code",
      "execution_count": 46,
      "metadata": {
        "colab": {
          "base_uri": "https://localhost:8080/",
          "height": 0
        },
        "id": "ak2c0vuqpaYE",
        "outputId": "89e0343e-054d-4c96-f9b5-54ff6c71a7c8"
      },
      "outputs": [
        {
          "output_type": "stream",
          "name": "stdout",
          "text": [
            "WARNING:tensorflow:From /usr/local/lib/python3.7/dist-packages/keras/engine/training.py:2975: StrategyBase.unwrap (from tensorflow.python.distribute.distribute_lib) is deprecated and will be removed in a future version.\n",
            "Instructions for updating:\n",
            "use `experimental_local_results` instead.\n"
          ]
        },
        {
          "output_type": "execute_result",
          "data": {
            "text/plain": [
              "array([[0.20052533, 0.19889279, 0.2012252 , 0.198639  , 0.2007176 ],\n",
              "       [0.20226596, 0.19997612, 0.19811068, 0.20061456, 0.19903266],\n",
              "       [0.20211372, 0.20019418, 0.19947419, 0.199612  , 0.1986059 ]],\n",
              "      dtype=float32)"
            ]
          },
          "metadata": {},
          "execution_count": 46
        }
      ],
      "source": [
        "#test the model on sample data\n",
        "rnn_model.predict(example)"
      ]
    },
    {
      "cell_type": "code",
      "execution_count": 47,
      "metadata": {
        "id": "X06vB49ZpaYF"
      },
      "outputs": [],
      "source": [
        "#define the target values Y\n",
        "Y = df[\"star_rating\"].values\n",
        "Y = Y.reshape(-1,1)\n",
        "\n",
        "#onhot encoding\n",
        "from sklearn.preprocessing import OneHotEncoder\n",
        "\n",
        "one_hot_encoder = OneHotEncoder(handle_unknown='ignore')\n",
        "Y=one_hot_encoder.fit_transform(Y)\n",
        "Y=Y.toarray()"
      ]
    },
    {
      "cell_type": "code",
      "execution_count": 48,
      "metadata": {
        "colab": {
          "base_uri": "https://localhost:8080/",
          "height": 0
        },
        "id": "JuhGHmpNpaYF",
        "outputId": "e7424fb3-3912-4894-9532-24bac8655f12"
      },
      "outputs": [
        {
          "output_type": "stream",
          "name": "stdout",
          "text": [
            "<class 'numpy.ndarray'>\n",
            "(100000, 5)\n",
            "float64\n"
          ]
        }
      ],
      "source": [
        "print(type(Y))\n",
        "print(Y.shape)\n",
        "print(Y.dtype)"
      ]
    },
    {
      "cell_type": "code",
      "execution_count": 49,
      "metadata": {
        "id": "XizukhWkpaYF"
      },
      "outputs": [],
      "source": [
        "#save the model for future use\n",
        "import pickle\n",
        "f1 = open('features.pkl','wb')\n",
        "f2 = open('labels.pkl','wb')\n",
        "pickle.dump(X,f1)\n",
        "pickle.dump(Y,f2)\n",
        "f1.close()\n",
        "f2.close()\n"
      ]
    },
    {
      "cell_type": "code",
      "execution_count": 50,
      "metadata": {
        "id": "QOqE5mvspaYG"
      },
      "outputs": [],
      "source": [
        "#split the traingin and testing data (80% for training) (20% for testing)\n",
        "X_train = X_val[:80000]\n",
        "Y_train = Y[:80000]\n",
        "\n",
        "X_test = X_val[80000:]\n",
        "Y_test = Y[80000:]"
      ]
    },
    {
      "cell_type": "code",
      "execution_count": 51,
      "metadata": {
        "colab": {
          "base_uri": "https://localhost:8080/",
          "height": 0
        },
        "id": "XRX335tzpaYG",
        "outputId": "062b6298-dc80-4d79-dd10-f8f48613802d"
      },
      "outputs": [
        {
          "output_type": "stream",
          "name": "stdout",
          "text": [
            "Epoch 1/3\n",
            "INFO:tensorflow:Reduce to /job:localhost/replica:0/task:0/device:GPU:0 then broadcast to ('/job:localhost/replica:0/task:0/device:GPU:0', '/job:localhost/replica:0/task:0/device:GPU:0').\n",
            "INFO:tensorflow:Reduce to /job:localhost/replica:0/task:0/device:GPU:0 then broadcast to ('/job:localhost/replica:0/task:0/device:GPU:0', '/job:localhost/replica:0/task:0/device:GPU:0').\n",
            "INFO:tensorflow:Reduce to /job:localhost/replica:0/task:0/device:GPU:0 then broadcast to ('/job:localhost/replica:0/task:0/device:GPU:0', '/job:localhost/replica:0/task:0/device:GPU:0').\n",
            "INFO:tensorflow:Reduce to /job:localhost/replica:0/task:0/device:GPU:0 then broadcast to ('/job:localhost/replica:0/task:0/device:GPU:0', '/job:localhost/replica:0/task:0/device:GPU:0').\n",
            "INFO:tensorflow:Reduce to /job:localhost/replica:0/task:0/device:GPU:0 then broadcast to ('/job:localhost/replica:0/task:0/device:GPU:0', '/job:localhost/replica:0/task:0/device:GPU:0').\n",
            "INFO:tensorflow:Reduce to /job:localhost/replica:0/task:0/device:GPU:0 then broadcast to ('/job:localhost/replica:0/task:0/device:GPU:0', '/job:localhost/replica:0/task:0/device:GPU:0').\n",
            "INFO:tensorflow:Reduce to /job:localhost/replica:0/task:0/device:GPU:0 then broadcast to ('/job:localhost/replica:0/task:0/device:GPU:0', '/job:localhost/replica:0/task:0/device:GPU:0').\n",
            "INFO:tensorflow:Reduce to /job:localhost/replica:0/task:0/device:GPU:0 then broadcast to ('/job:localhost/replica:0/task:0/device:GPU:0', '/job:localhost/replica:0/task:0/device:GPU:0').\n",
            "INFO:tensorflow:Reduce to /job:localhost/replica:0/task:0/device:GPU:0 then broadcast to ('/job:localhost/replica:0/task:0/device:GPU:0', '/job:localhost/replica:0/task:0/device:GPU:0').\n",
            "INFO:tensorflow:Reduce to /job:localhost/replica:0/task:0/device:GPU:0 then broadcast to ('/job:localhost/replica:0/task:0/device:GPU:0', '/job:localhost/replica:0/task:0/device:GPU:0').\n",
            "INFO:tensorflow:Reduce to /job:localhost/replica:0/task:0/device:CPU:0 then broadcast to ('/job:localhost/replica:0/task:0/device:CPU:0',).\n",
            "INFO:tensorflow:Reduce to /job:localhost/replica:0/task:0/device:CPU:0 then broadcast to ('/job:localhost/replica:0/task:0/device:CPU:0',).\n",
            "INFO:tensorflow:Reduce to /job:localhost/replica:0/task:0/device:CPU:0 then broadcast to ('/job:localhost/replica:0/task:0/device:CPU:0',).\n",
            "INFO:tensorflow:Reduce to /job:localhost/replica:0/task:0/device:CPU:0 then broadcast to ('/job:localhost/replica:0/task:0/device:CPU:0',).\n",
            "INFO:tensorflow:Reduce to /job:localhost/replica:0/task:0/device:CPU:0 then broadcast to ('/job:localhost/replica:0/task:0/device:CPU:0',).\n",
            "INFO:tensorflow:Reduce to /job:localhost/replica:0/task:0/device:CPU:0 then broadcast to ('/job:localhost/replica:0/task:0/device:CPU:0',).\n",
            "8000/8000 [==============================] - 1652s 204ms/step - loss: 1.0925 - accuracy: 0.5208 - val_loss: 0.9997 - val_accuracy: 0.5641\n",
            "Epoch 2/3\n",
            "8000/8000 [==============================] - 1576s 197ms/step - loss: 0.8380 - accuracy: 0.6446 - val_loss: 1.0263 - val_accuracy: 0.5651\n",
            "Epoch 3/3\n",
            "8000/8000 [==============================] - 1581s 198ms/step - loss: 0.5927 - accuracy: 0.7623 - val_loss: 1.2030 - val_accuracy: 0.5502\n"
          ]
        }
      ],
      "source": [
        "#train on the training dataset using cross validation\n",
        "history = rnn_model.fit(\n",
        "    X_train,\n",
        "    Y_train,\n",
        "    epochs=3,\n",
        "    batch_size=8,\n",
        "    # Calculate validation results on 20% of the training data.\n",
        "    validation_split = 0.2)\n"
      ]
    },
    {
      "cell_type": "code",
      "execution_count": 52,
      "metadata": {
        "colab": {
          "base_uri": "https://localhost:8080/",
          "height": 283
        },
        "id": "0g4RRwbppaYG",
        "outputId": "54d9dceb-479e-49af-8929-8e229f76777a"
      },
      "outputs": [
        {
          "output_type": "display_data",
          "data": {
            "image/png": "[encoded data removed]",
            "text/plain": [
              "<Figure size 432x288 with 1 Axes>"
            ]
          },
          "metadata": {
            "needs_background": "light"
          }
        }
      ],
      "source": [
        "#plot the history\n",
        "import matplotlib.pyplot as plt\n",
        "def plot_loss():\n",
        "  plt.plot([1.0953,0.8387,0.5957], label='training loss')\n",
        "  plt.plot([1.0080,0.9995,1.1812], label='val loss')\n",
        "  plt.ylim([0, 2.0])\n",
        "  plt.xlabel('Epoch')\n",
        "  plt.ylabel('loss')\n",
        "  plt.legend()\n",
        "  plt.grid(True)\n",
        "plot_loss()#plot the history\n"
      ]
    },
    {
      "cell_type": "code",
      "execution_count": 53,
      "metadata": {
        "colab": {
          "base_uri": "https://localhost:8080/",
          "height": 283
        },
        "id": "5EUKhjHHpaYG",
        "outputId": "85ca5543-d956-4e68-f0dd-7211706ea1b0"
      },
      "outputs": [
        {
          "output_type": "display_data",
          "data": {
            "image/png": "[encoded data removed]",
            "text/plain": [
              "<Figure size 432x288 with 1 Axes>"
            ]
          },
          "metadata": {
            "needs_background": "light"
          }
        }
      ],
      "source": [
        "def plot_accuracy():\n",
        "  plt.plot([0.5218,0.6446,0.7644], label='training accuracy')\n",
        "  plt.plot([0.5602,0.5679,0.5525], label='val accuracy')\n",
        "  plt.ylim([0.4, 1.0])\n",
        "  plt.xlabel('Epoch')\n",
        "  plt.ylabel('accuracy')\n",
        "  plt.legend()\n",
        "  plt.grid(True)\n",
        "\n",
        "plot_accuracy()"
      ]
    },
    {
      "cell_type": "code",
      "execution_count": 54,
      "metadata": {
        "colab": {
          "base_uri": "https://localhost:8080/",
          "height": 0
        },
        "id": "r_Jq7qBipaYH",
        "outputId": "6ec522ae-5652-4e41-eaf3-3bee1cfe2fca"
      },
      "outputs": [
        {
          "output_type": "stream",
          "name": "stderr",
          "text": [
            "WARNING:absl:Found untraced functions such as lstm_cell_1_layer_call_fn, lstm_cell_1_layer_call_and_return_conditional_losses, lstm_cell_2_layer_call_fn, lstm_cell_2_layer_call_and_return_conditional_losses, lstm_cell_1_layer_call_fn while saving (showing 5 of 10). These functions will not be directly callable after loading.\n"
          ]
        },
        {
          "output_type": "stream",
          "name": "stdout",
          "text": [
            "INFO:tensorflow:Assets written to: ./rnn_model/assets\n"
          ]
        },
        {
          "output_type": "stream",
          "name": "stderr",
          "text": [
            "INFO:tensorflow:Assets written to: ./rnn_model/assets\n",
            "WARNING:absl:<keras.layers.recurrent.LSTMCell object at 0x7f4d0914e210> has the same name 'LSTMCell' as a built-in Keras object. Consider renaming <class 'keras.layers.recurrent.LSTMCell'> to avoid naming conflicts when loading with `tf.keras.models.load_model`. If renaming is not possible, pass the object in the `custom_objects` parameter of the load function.\n",
            "WARNING:absl:<keras.layers.recurrent.LSTMCell object at 0x7f4d3ce685d0> has the same name 'LSTMCell' as a built-in Keras object. Consider renaming <class 'keras.layers.recurrent.LSTMCell'> to avoid naming conflicts when loading with `tf.keras.models.load_model`. If renaming is not possible, pass the object in the `custom_objects` parameter of the load function.\n"
          ]
        }
      ],
      "source": [
        "#save the model for future usage\n",
        "rnn_model.save('./rnn_model')\n"
      ]
    },
    {
      "cell_type": "code",
      "execution_count": 55,
      "metadata": {
        "id": "w53f_EippaYH"
      },
      "outputs": [],
      "source": [
        "#evaluate the model of testing data\n",
        "rnn_model.trainable=False"
      ]
    },
    {
      "cell_type": "code",
      "execution_count": 56,
      "metadata": {
        "colab": {
          "base_uri": "https://localhost:8080/",
          "height": 0
        },
        "id": "tK71oIk6paYH",
        "outputId": "77a4d6b8-d3fb-4ada-ced3-6c953d1371ed"
      },
      "outputs": [
        {
          "output_type": "stream",
          "name": "stdout",
          "text": [
            "625/625 [==============================] - 95s 140ms/step - loss: 1.2031 - accuracy: 0.5499\n"
          ]
        },
        {
          "output_type": "execute_result",
          "data": {
            "text/plain": [
              "[1.203059196472168, 0.5498999953269958]"
            ]
          },
          "metadata": {},
          "execution_count": 56
        }
      ],
      "source": [
        "rnn_model.evaluate(X_test,Y_test)"
      ]
    },
    {
      "cell_type": "code",
      "execution_count": 57,
      "metadata": {
        "colab": {
          "base_uri": "https://localhost:8080/",
          "height": 0
        },
        "id": "ip6Dj_NjpaYI",
        "outputId": "217a276a-0826-4be9-8781-7b2785c0dd26"
      },
      "outputs": [
        {
          "output_type": "stream",
          "name": "stdout",
          "text": [
            "the predicted values =[[7.5086852e-04 5.2578381e-04 1.6020637e-02 3.4525824e-01 6.3744444e-01]\n",
            " [4.7137719e-06 6.8165389e-07 3.1455656e-05 2.5967925e-04 9.9970347e-01]\n",
            " [1.6525127e-02 3.4369044e-02 2.3972724e-01 5.0381911e-01 2.0555948e-01]\n",
            " [5.3625256e-03 1.0723502e-02 1.2285347e-01 5.1314527e-01 3.4791529e-01]\n",
            " [8.2286177e-05 4.7190128e-06 7.7217454e-05 1.2121792e-02 9.8771393e-01]\n",
            " [6.8909754e-03 3.7774277e-01 6.0517180e-01 9.7878501e-03 4.0653866e-04]\n",
            " [6.3608000e-03 5.5019379e-01 4.4074118e-01 2.5713646e-03 1.3291200e-04]\n",
            " [8.6784907e-02 4.6759319e-01 3.7240869e-01 5.1234875e-02 2.1978296e-02]\n",
            " [7.1477087e-05 1.3599664e-04 1.3593421e-02 6.2350088e-01 3.6269835e-01]\n",
            " [6.4838088e-01 3.5008878e-01 1.5276672e-03 2.1495425e-06 5.7882897e-07]]\n",
            "the real values      =[[0. 0. 0. 0. 1.]\n",
            " [0. 0. 0. 0. 1.]\n",
            " [0. 0. 0. 1. 0.]\n",
            " [0. 0. 0. 0. 1.]\n",
            " [0. 0. 0. 1. 0.]\n",
            " [0. 1. 0. 0. 0.]\n",
            " [0. 0. 1. 0. 0.]\n",
            " [0. 1. 0. 0. 0.]\n",
            " [0. 0. 0. 0. 1.]\n",
            " [1. 0. 0. 0. 0.]]\n"
          ]
        }
      ],
      "source": [
        "#find the prediction on testing data for RNN based model\n",
        "sample_X = X_test[:10]\n",
        "sample_Y = Y_test[:10]\n",
        "\n",
        "preds = rnn_model.predict(sample_X)\n",
        "print(f'the predicted values ={preds}')\n",
        "print(f'the real values      ={sample_Y}')\n"
      ]
    },
    {
      "cell_type": "code",
      "execution_count": 58,
      "metadata": {
        "id": "MUh1OVGmpaYI"
      },
      "outputs": [],
      "source": [
        "#calculate the precision,recall,f1 score,confusion matrix for the model\n",
        "from sklearn.metrics import f1_score,recall_score,precision_score,ConfusionMatrixDisplay"
      ]
    },
    {
      "cell_type": "code",
      "execution_count": 59,
      "metadata": {
        "colab": {
          "base_uri": "https://localhost:8080/",
          "height": 0
        },
        "id": "_WS7J4XgpaYI",
        "outputId": "64fe461f-a440-4c44-8b50-68d55afb92bd"
      },
      "outputs": [
        {
          "output_type": "stream",
          "name": "stdout",
          "text": [
            "(20000, 5)\n"
          ]
        }
      ],
      "source": [
        "Y_preds = rnn_model.predict(X_test)\n",
        "print(Y_preds.shape)"
      ]
    },
    {
      "cell_type": "code",
      "execution_count": 60,
      "metadata": {
        "id": "FL11EoHkpaYJ"
      },
      "outputs": [],
      "source": [
        "Y_preds_single = np.argmax(Y_preds,axis=1)\n",
        "Y_real = np.argmax(Y_test,axis=1)"
      ]
    },
    {
      "cell_type": "code",
      "execution_count": 61,
      "metadata": {
        "id": "5oj3OanGpaYJ"
      },
      "outputs": [],
      "source": [
        "#plot the f1 score the model across different classes\n",
        "f1 = f1_score(Y_real,Y_preds_single,average=None)\n",
        "recall = recall_score(Y_real,Y_preds_single,average=None)\n",
        "precision = precision_score(Y_real,Y_preds_single,average=None)"
      ]
    },
    {
      "cell_type": "code",
      "execution_count": 62,
      "metadata": {
        "colab": {
          "base_uri": "https://localhost:8080/",
          "height": 0
        },
        "id": "RbfsSOfnpaYJ",
        "outputId": "620ab8bf-f73a-4fb1-f755-e22a38455b9a"
      },
      "outputs": [
        {
          "output_type": "stream",
          "name": "stdout",
          "text": [
            "Weighted F1 Score :  0.5523903846028141\n",
            "Weighted Recall Score :  0.5499\n",
            "Weighted Precision Score :  0.55647906287921\n"
          ]
        }
      ],
      "source": [
        "print(\"Weighted F1 Score : \",f1_score(Y_real,Y_preds_single,average=\"weighted\"))\n",
        "print(\"Weighted Recall Score : \",recall_score(Y_real,Y_preds_single,average=\"weighted\"))\n",
        "print(\"Weighted Precision Score : \",precision_score(Y_real,Y_preds_single,average=\"weighted\"))"
      ]
    },
    {
      "cell_type": "code",
      "execution_count": 63,
      "metadata": {
        "colab": {
          "base_uri": "https://localhost:8080/",
          "height": 295
        },
        "id": "VI3f6LCWpaYJ",
        "outputId": "9ea0352f-5355-4123-b87b-a5b66a387d73"
      },
      "outputs": [
        {
          "output_type": "display_data",
          "data": {
            "image/png": "[encoded data removed]",
            "text/plain": [
              "<Figure size 432x288 with 1 Axes>"
            ]
          },
          "metadata": {
            "needs_background": "light"
          }
        }
      ],
      "source": [
        "#plot the f1 score\n",
        "x = [1,2,3,4,5]\n",
        "plt.bar(x,f1,label='f1 score')\n",
        "plt.title('f1 score (all classes)')\n",
        "plt.xlabel('ratings')\n",
        "plt.ylabel('f1 score')\n",
        "plt.show()"
      ]
    },
    {
      "cell_type": "code",
      "execution_count": 64,
      "metadata": {
        "colab": {
          "base_uri": "https://localhost:8080/",
          "height": 295
        },
        "id": "uprHwat4paYK",
        "outputId": "68aca4d9-2453-4231-a622-d13d2a7f0170"
      },
      "outputs": [
        {
          "output_type": "display_data",
          "data": {
            "image/png": "[encoded data removed]",
            "text/plain": [
              "<Figure size 432x288 with 1 Axes>"
            ]
          },
          "metadata": {
            "needs_background": "light"
          }
        }
      ],
      "source": [
        "#plot the recall\n",
        "x = [1,2,3,4,5]\n",
        "plt.bar(x,recall,label='recall')\n",
        "plt.title('recall (all classes)')\n",
        "plt.xlabel('ratings')\n",
        "plt.ylabel('recall')\n",
        "plt.show()"
      ]
    },
    {
      "cell_type": "code",
      "execution_count": 65,
      "metadata": {
        "colab": {
          "base_uri": "https://localhost:8080/",
          "height": 295
        },
        "id": "zHwpz_uXpaYK",
        "outputId": "3710fb22-2ce5-4328-eb72-b0e1932f88e8"
      },
      "outputs": [
        {
          "output_type": "display_data",
          "data": {
            "image/png": "[encoded data removed]",
            "text/plain": [
              "<Figure size 432x288 with 1 Axes>"
            ]
          },
          "metadata": {
            "needs_background": "light"
          }
        }
      ],
      "source": [
        "#precision\n",
        "x = [1,2,3,4,5]\n",
        "plt.bar(x,precision,label='precision')\n",
        "plt.title('precision (all classes)')\n",
        "plt.xlabel('ratings')\n",
        "plt.ylabel('precision')\n",
        "plt.show()"
      ]
    },
    {
      "cell_type": "code",
      "execution_count": 66,
      "metadata": {
        "colab": {
          "base_uri": "https://localhost:8080/",
          "height": 0
        },
        "id": "ZtCrUMhUpaYK",
        "outputId": "65077294-02b4-483f-d2f5-0c8f31bf2795"
      },
      "outputs": [
        {
          "output_type": "stream",
          "name": "stdout",
          "text": [
            "[[2442 1130  234  104   74]\n",
            " [ 813 2127  809  207  100]\n",
            " [ 220  835 1982  769  183]\n",
            " [  72  189  840 2016  872]\n",
            " [  63  117  269 1102 2431]]\n"
          ]
        }
      ],
      "source": [
        "#output the confusion matrix\n",
        "from sklearn.metrics import confusion_matrix\n",
        "cm = confusion_matrix(Y_real,Y_preds_single)\n",
        "print(cm)"
      ]
    },
    {
      "cell_type": "code",
      "execution_count": 67,
      "metadata": {
        "colab": {
          "base_uri": "https://localhost:8080/",
          "height": 282
        },
        "id": "FBGa7dawpaYL",
        "outputId": "b29ddd93-2738-416b-ee15-f41fcadf09aa"
      },
      "outputs": [
        {
          "output_type": "execute_result",
          "data": {
            "text/plain": [
              "<matplotlib.axes._subplots.AxesSubplot at 0x7f4d08996cd0>"
            ]
          },
          "metadata": {},
          "execution_count": 67
        },
        {
          "output_type": "display_data",
          "data": {
            "image/png": "[encoded data removed]",
            "text/plain": [
              "<Figure size 432x288 with 2 Axes>"
            ]
          },
          "metadata": {
            "needs_background": "light"
          }
        }
      ],
      "source": [
        "import seaborn as sns\n",
        "sns.heatmap(cm,annot=True,fmt='g')"
      ]
    },
    {
      "cell_type": "code",
      "execution_count": 68,
      "metadata": {
        "colab": {
          "base_uri": "https://localhost:8080/",
          "height": 0
        },
        "id": "30sECiHCpaYL",
        "outputId": "52c077c3-f773-42f3-8e1a-1ff1b82c51f7"
      },
      "outputs": [
        {
          "output_type": "stream",
          "name": "stdout",
          "text": [
            "['awesome this book is really good   although the tutorials are on you tube having the book in front of me also as a guide has really helped   highly reccomended'\n",
            " 'five stars great sturdy books   ideal for my 1 year old granddaughter  who loves peppa pig '\n",
            " 'j adore ce film mais le dvd est de mauvaise qualité car amputé de toute la scène de chasse  je connais parfaitement ce film pour en avoir eu la cassette vidéo et l avoir visionné de multiple fois  j ai voulu acquérir le dvd pour en avoir la version originale  quelle déception il manque toute une partie du film que préconisez vous ']\n",
            "the number of stars in the process =  [5 5 4]\n"
          ]
        }
      ],
      "source": [
        "#function to test our own statements\n",
        "import re\n",
        "\n",
        "values = X_test[:3]\n",
        "print(values)\n",
        "preds = rnn_model.predict(values)\n",
        "print(\"the number of stars in the process = \",np.argmax(preds,axis=1)+1)\n",
        "    "
      ]
    }
  ],
  "metadata": {
    "interpreter": {
      "hash": "6977af11dbf952fcf0436ed16e156c569ad0f9bbf70e2a2efda401ef7d9a6b7e"
    },
    "kernelspec": {
      "display_name": "Python 3",
      "language": "python",
      "name": "python3"
    },
    "language_info": {
      "codemirror_mode": {
        "name": "ipython",
        "version": 3
      },
      "file_extension": ".py",
      "mimetype": "text/x-python",
      "name": "python",
      "nbconvert_exporter": "python",
      "pygments_lexer": "ipython3",
      "version": "3.9.5"
    },
    "colab": {
      "name": "bi_lstm.ipynb",
      "provenance": [],
      "include_colab_link": true
    },
    "accelerator": "GPU"
  },
  "nbformat": 4,
  "nbformat_minor": 0
}